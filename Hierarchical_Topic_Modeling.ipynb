{
  "nbformat": 4,
  "nbformat_minor": 0,
  "metadata": {
    "colab": {
      "provenance": [],
      "authorship_tag": "ABX9TyOXWYvkGgM8BvIwXZ7AFntZ",
      "include_colab_link": true
    },
    "kernelspec": {
      "name": "python3",
      "display_name": "Python 3"
    },
    "language_info": {
      "name": "python"
    }
  },
  "cells": [
    {
      "cell_type": "markdown",
      "metadata": {
        "id": "view-in-github",
        "colab_type": "text"
      },
      "source": [
        "<a href=\"https://colab.research.google.com/github/SeohyeonSunny/Topic-Modeling/blob/main/Hierarchical_Topic_Modeling.ipynb\" target=\"_parent\"><img src=\"https://colab.research.google.com/assets/colab-badge.svg\" alt=\"Open In Colab\"/></a>"
      ]
    },
    {
      "cell_type": "code",
      "execution_count": null,
      "metadata": {
        "id": "VXQFV6oRI4i9"
      },
      "outputs": [],
      "source": [
        "from google.colab import drive"
      ]
    },
    {
      "cell_type": "code",
      "source": [
        "drive.mount('/content/gdrive')"
      ],
      "metadata": {
        "colab": {
          "base_uri": "https://localhost:8080/"
        },
        "id": "i6gCcEWRP2We",
        "outputId": "09c51dc6-f27e-49ca-9c17-0a912fe45300"
      },
      "execution_count": null,
      "outputs": [
        {
          "output_type": "stream",
          "name": "stdout",
          "text": [
            "Drive already mounted at /content/gdrive; to attempt to forcibly remount, call drive.mount(\"/content/gdrive\", force_remount=True).\n"
          ]
        }
      ]
    },
    {
      "cell_type": "code",
      "source": [
        "!pip install bertopic"
      ],
      "metadata": {
        "colab": {
          "base_uri": "https://localhost:8080/"
        },
        "id": "drR8-5bgXAen",
        "outputId": "af2c4a03-fc9d-4823-b854-dd4359fc1d9f"
      },
      "execution_count": null,
      "outputs": [
        {
          "output_type": "stream",
          "name": "stdout",
          "text": [
            "Requirement already satisfied: bertopic in /usr/local/lib/python3.10/dist-packages (0.15.0)\n",
            "Requirement already satisfied: numpy>=1.20.0 in /usr/local/lib/python3.10/dist-packages (from bertopic) (1.23.5)\n",
            "Requirement already satisfied: hdbscan>=0.8.29 in /usr/local/lib/python3.10/dist-packages (from bertopic) (0.8.33)\n",
            "Requirement already satisfied: umap-learn>=0.5.0 in /usr/local/lib/python3.10/dist-packages (from bertopic) (0.5.4)\n",
            "Requirement already satisfied: pandas>=1.1.5 in /usr/local/lib/python3.10/dist-packages (from bertopic) (1.5.3)\n",
            "Requirement already satisfied: scikit-learn>=0.22.2.post1 in /usr/local/lib/python3.10/dist-packages (from bertopic) (1.2.2)\n",
            "Requirement already satisfied: tqdm>=4.41.1 in /usr/local/lib/python3.10/dist-packages (from bertopic) (4.66.1)\n",
            "Requirement already satisfied: sentence-transformers>=0.4.1 in /usr/local/lib/python3.10/dist-packages (from bertopic) (2.2.2)\n",
            "Requirement already satisfied: plotly>=4.7.0 in /usr/local/lib/python3.10/dist-packages (from bertopic) (5.15.0)\n",
            "Requirement already satisfied: cython<3,>=0.27 in /usr/local/lib/python3.10/dist-packages (from hdbscan>=0.8.29->bertopic) (0.29.36)\n",
            "Requirement already satisfied: scipy>=1.0 in /usr/local/lib/python3.10/dist-packages (from hdbscan>=0.8.29->bertopic) (1.11.2)\n",
            "Requirement already satisfied: joblib>=1.0 in /usr/local/lib/python3.10/dist-packages (from hdbscan>=0.8.29->bertopic) (1.3.2)\n",
            "Requirement already satisfied: python-dateutil>=2.8.1 in /usr/local/lib/python3.10/dist-packages (from pandas>=1.1.5->bertopic) (2.8.2)\n",
            "Requirement already satisfied: pytz>=2020.1 in /usr/local/lib/python3.10/dist-packages (from pandas>=1.1.5->bertopic) (2023.3.post1)\n",
            "Requirement already satisfied: tenacity>=6.2.0 in /usr/local/lib/python3.10/dist-packages (from plotly>=4.7.0->bertopic) (8.2.3)\n",
            "Requirement already satisfied: packaging in /usr/local/lib/python3.10/dist-packages (from plotly>=4.7.0->bertopic) (23.1)\n",
            "Requirement already satisfied: threadpoolctl>=2.0.0 in /usr/local/lib/python3.10/dist-packages (from scikit-learn>=0.22.2.post1->bertopic) (3.2.0)\n",
            "Requirement already satisfied: transformers<5.0.0,>=4.6.0 in /usr/local/lib/python3.10/dist-packages (from sentence-transformers>=0.4.1->bertopic) (4.33.3)\n",
            "Requirement already satisfied: torch>=1.6.0 in /usr/local/lib/python3.10/dist-packages (from sentence-transformers>=0.4.1->bertopic) (2.0.1+cu118)\n",
            "Requirement already satisfied: torchvision in /usr/local/lib/python3.10/dist-packages (from sentence-transformers>=0.4.1->bertopic) (0.15.2+cu118)\n",
            "Requirement already satisfied: nltk in /usr/local/lib/python3.10/dist-packages (from sentence-transformers>=0.4.1->bertopic) (3.8.1)\n",
            "Requirement already satisfied: sentencepiece in /usr/local/lib/python3.10/dist-packages (from sentence-transformers>=0.4.1->bertopic) (0.1.99)\n",
            "Requirement already satisfied: huggingface-hub>=0.4.0 in /usr/local/lib/python3.10/dist-packages (from sentence-transformers>=0.4.1->bertopic) (0.17.3)\n",
            "Requirement already satisfied: numba>=0.51.2 in /usr/local/lib/python3.10/dist-packages (from umap-learn>=0.5.0->bertopic) (0.56.4)\n",
            "Requirement already satisfied: pynndescent>=0.5 in /usr/local/lib/python3.10/dist-packages (from umap-learn>=0.5.0->bertopic) (0.5.10)\n",
            "Requirement already satisfied: tbb>=2019.0 in /usr/local/lib/python3.10/dist-packages (from umap-learn>=0.5.0->bertopic) (2021.10.0)\n",
            "Requirement already satisfied: filelock in /usr/local/lib/python3.10/dist-packages (from huggingface-hub>=0.4.0->sentence-transformers>=0.4.1->bertopic) (3.12.2)\n",
            "Requirement already satisfied: fsspec in /usr/local/lib/python3.10/dist-packages (from huggingface-hub>=0.4.0->sentence-transformers>=0.4.1->bertopic) (2023.6.0)\n",
            "Requirement already satisfied: requests in /usr/local/lib/python3.10/dist-packages (from huggingface-hub>=0.4.0->sentence-transformers>=0.4.1->bertopic) (2.31.0)\n",
            "Requirement already satisfied: pyyaml>=5.1 in /usr/local/lib/python3.10/dist-packages (from huggingface-hub>=0.4.0->sentence-transformers>=0.4.1->bertopic) (6.0.1)\n",
            "Requirement already satisfied: typing-extensions>=3.7.4.3 in /usr/local/lib/python3.10/dist-packages (from huggingface-hub>=0.4.0->sentence-transformers>=0.4.1->bertopic) (4.5.0)\n",
            "Requirement already satisfied: llvmlite<0.40,>=0.39.0dev0 in /usr/local/lib/python3.10/dist-packages (from numba>=0.51.2->umap-learn>=0.5.0->bertopic) (0.39.1)\n",
            "Requirement already satisfied: setuptools in /usr/local/lib/python3.10/dist-packages (from numba>=0.51.2->umap-learn>=0.5.0->bertopic) (67.7.2)\n",
            "Requirement already satisfied: six>=1.5 in /usr/local/lib/python3.10/dist-packages (from python-dateutil>=2.8.1->pandas>=1.1.5->bertopic) (1.16.0)\n",
            "Requirement already satisfied: sympy in /usr/local/lib/python3.10/dist-packages (from torch>=1.6.0->sentence-transformers>=0.4.1->bertopic) (1.12)\n",
            "Requirement already satisfied: networkx in /usr/local/lib/python3.10/dist-packages (from torch>=1.6.0->sentence-transformers>=0.4.1->bertopic) (3.1)\n",
            "Requirement already satisfied: jinja2 in /usr/local/lib/python3.10/dist-packages (from torch>=1.6.0->sentence-transformers>=0.4.1->bertopic) (3.1.2)\n",
            "Requirement already satisfied: triton==2.0.0 in /usr/local/lib/python3.10/dist-packages (from torch>=1.6.0->sentence-transformers>=0.4.1->bertopic) (2.0.0)\n",
            "Requirement already satisfied: cmake in /usr/local/lib/python3.10/dist-packages (from triton==2.0.0->torch>=1.6.0->sentence-transformers>=0.4.1->bertopic) (3.27.4.1)\n",
            "Requirement already satisfied: lit in /usr/local/lib/python3.10/dist-packages (from triton==2.0.0->torch>=1.6.0->sentence-transformers>=0.4.1->bertopic) (16.0.6)\n",
            "Requirement already satisfied: regex!=2019.12.17 in /usr/local/lib/python3.10/dist-packages (from transformers<5.0.0,>=4.6.0->sentence-transformers>=0.4.1->bertopic) (2023.6.3)\n",
            "Requirement already satisfied: tokenizers!=0.11.3,<0.14,>=0.11.1 in /usr/local/lib/python3.10/dist-packages (from transformers<5.0.0,>=4.6.0->sentence-transformers>=0.4.1->bertopic) (0.13.3)\n",
            "Requirement already satisfied: safetensors>=0.3.1 in /usr/local/lib/python3.10/dist-packages (from transformers<5.0.0,>=4.6.0->sentence-transformers>=0.4.1->bertopic) (0.3.3)\n",
            "Requirement already satisfied: click in /usr/local/lib/python3.10/dist-packages (from nltk->sentence-transformers>=0.4.1->bertopic) (8.1.7)\n",
            "Requirement already satisfied: pillow!=8.3.*,>=5.3.0 in /usr/local/lib/python3.10/dist-packages (from torchvision->sentence-transformers>=0.4.1->bertopic) (9.4.0)\n",
            "Requirement already satisfied: MarkupSafe>=2.0 in /usr/local/lib/python3.10/dist-packages (from jinja2->torch>=1.6.0->sentence-transformers>=0.4.1->bertopic) (2.1.3)\n",
            "Requirement already satisfied: charset-normalizer<4,>=2 in /usr/local/lib/python3.10/dist-packages (from requests->huggingface-hub>=0.4.0->sentence-transformers>=0.4.1->bertopic) (3.2.0)\n",
            "Requirement already satisfied: idna<4,>=2.5 in /usr/local/lib/python3.10/dist-packages (from requests->huggingface-hub>=0.4.0->sentence-transformers>=0.4.1->bertopic) (3.4)\n",
            "Requirement already satisfied: urllib3<3,>=1.21.1 in /usr/local/lib/python3.10/dist-packages (from requests->huggingface-hub>=0.4.0->sentence-transformers>=0.4.1->bertopic) (2.0.4)\n",
            "Requirement already satisfied: certifi>=2017.4.17 in /usr/local/lib/python3.10/dist-packages (from requests->huggingface-hub>=0.4.0->sentence-transformers>=0.4.1->bertopic) (2023.7.22)\n",
            "Requirement already satisfied: mpmath>=0.19 in /usr/local/lib/python3.10/dist-packages (from sympy->torch>=1.6.0->sentence-transformers>=0.4.1->bertopic) (1.3.0)\n"
          ]
        }
      ]
    },
    {
      "cell_type": "code",
      "source": [
        "pip install kiwipiepy"
      ],
      "metadata": {
        "colab": {
          "base_uri": "https://localhost:8080/"
        },
        "id": "iHWWuy3yeQ8Y",
        "outputId": "f8fd5037-7573-401c-a9c9-fad1485a7a48"
      },
      "execution_count": null,
      "outputs": [
        {
          "output_type": "stream",
          "name": "stdout",
          "text": [
            "Requirement already satisfied: kiwipiepy in /usr/local/lib/python3.10/dist-packages (0.16.0)\n",
            "Requirement already satisfied: kiwipiepy-model~=0.16 in /usr/local/lib/python3.10/dist-packages (from kiwipiepy) (0.16.0)\n",
            "Requirement already satisfied: numpy in /usr/local/lib/python3.10/dist-packages (from kiwipiepy) (1.23.5)\n",
            "Requirement already satisfied: tqdm in /usr/local/lib/python3.10/dist-packages (from kiwipiepy) (4.66.1)\n"
          ]
        }
      ]
    },
    {
      "cell_type": "code",
      "source": [
        "from kiwipiepy import Kiwi\n",
        "from kiwipiepy.utils import Stopwords\n",
        "import re\n",
        "import csv\n",
        "from sklearn.datasets import fetch_20newsgroups\n",
        "from tqdm import tqdm\n",
        "from sklearn.feature_extraction.text import CountVectorizer\n",
        "from bertopic import BERTopic"
      ],
      "metadata": {
        "id": "3L9hbZ_ZW8m3"
      },
      "execution_count": null,
      "outputs": []
    },
    {
      "cell_type": "code",
      "source": [
        "kiwi = Kiwi()\n",
        "stopwords = Stopwords()"
      ],
      "metadata": {
        "id": "rQWXV0Fhd5Ni"
      },
      "execution_count": null,
      "outputs": []
    },
    {
      "cell_type": "code",
      "source": [
        "kiwi.add_user_word('인도적', 'NNP', 0)"
      ],
      "metadata": {
        "colab": {
          "base_uri": "https://localhost:8080/"
        },
        "id": "dmGIIGJzVJ63",
        "outputId": "f3caf7c4-d4a4-4487-dbdc-e4b915110fe3"
      },
      "execution_count": null,
      "outputs": [
        {
          "output_type": "execute_result",
          "data": {
            "text/plain": [
              "True"
            ]
          },
          "metadata": {},
          "execution_count": 77
        }
      ]
    },
    {
      "cell_type": "code",
      "source": [
        "kiwi.add_user_word('난민법', 'NNG', 0)"
      ],
      "metadata": {
        "id": "-OwN03NHTmHp",
        "colab": {
          "base_uri": "https://localhost:8080/"
        },
        "outputId": "13676a92-03e7-4687-b582-e1a19a994203"
      },
      "execution_count": null,
      "outputs": [
        {
          "output_type": "execute_result",
          "data": {
            "text/plain": [
              "True"
            ]
          },
          "metadata": {},
          "execution_count": 78
        }
      ]
    },
    {
      "cell_type": "code",
      "source": [
        "file_path = '/content/gdrive/MyDrive/Colab Notebooks/Twitter_refugee_before.txt'\n",
        "\n",
        "with open(file_path, 'r', encoding='utf-8') as file:\n",
        "    text = file.read().splitlines()"
      ],
      "metadata": {
        "id": "GazpxP34W9wX"
      },
      "execution_count": null,
      "outputs": []
    },
    {
      "cell_type": "code",
      "source": [
        "stop_words_2 = '''\n",
        "이거\n",
        "그거\n",
        "그건\n",
        "그걸\n",
        "이걸\n",
        "이건\n",
        "이걸\n",
        "그것\n",
        "거기\n",
        "카페\n",
        "누구\n",
        "무엇\n",
        "관련\n",
        "우선\n",
        "때문'''\n",
        "stop_words_list2 = stop_words_2.split('\\n')"
      ],
      "metadata": {
        "id": "ho4klbFxFnCm"
      },
      "execution_count": null,
      "outputs": []
    },
    {
      "cell_type": "code",
      "source": [
        "user_stop_word = stop_words_list2"
      ],
      "metadata": {
        "id": "kOmqsHYCkNuJ"
      },
      "execution_count": null,
      "outputs": []
    },
    {
      "cell_type": "code",
      "source": [
        "extract_pos_list = [\"NNG\", \"NNP\", \"NNB\", \"NR\", \"NP\"]"
      ],
      "metadata": {
        "id": "aPqTwKihkfDa"
      },
      "execution_count": null,
      "outputs": []
    },
    {
      "cell_type": "code",
      "source": [
        "class CustomTokenizer:\n",
        "    def __init__(self, kiwi):\n",
        "        self.kiwi = kiwi\n",
        "\n",
        "    def __call__(self, text):\n",
        "        result = list()\n",
        "        for word in self.kiwi.tokenize(text):\n",
        "            # 명사이고, 길이가 2이상인 단어이고, 불용어 리스트에 없으면 추가하기\n",
        "            if word[1] in extract_pos_list and len(word[0]) > 1 and word[0] not in user_stop_word:\n",
        "                result.append(word[0])\n",
        "        return result"
      ],
      "metadata": {
        "id": "E7fj-j0ZkgGq"
      },
      "execution_count": null,
      "outputs": []
    },
    {
      "cell_type": "code",
      "source": [
        "custom_tokenizer = CustomTokenizer(kiwi)"
      ],
      "metadata": {
        "id": "UFkw1Aqhk_MK"
      },
      "execution_count": null,
      "outputs": []
    },
    {
      "cell_type": "code",
      "source": [
        "vectorizer = CountVectorizer(tokenizer=custom_tokenizer, max_features=300)"
      ],
      "metadata": {
        "id": "KXnf765llLLZ"
      },
      "execution_count": null,
      "outputs": []
    },
    {
      "cell_type": "code",
      "source": [
        "model = BERTopic(embedding_model=\"sentence-transformers/xlm-r-100langs-bert-base-nli-stsb-mean-tokens\", \\\n",
        "                 vectorizer_model=vectorizer,\n",
        "                 nr_topics= \"auto\", # 문서를 대표하는 토픽의 갯수\n",
        "                 top_n_words=100,\n",
        "                 calculate_probabilities=True)"
      ],
      "metadata": {
        "id": "I7isJ6aSlbSh"
      },
      "execution_count": null,
      "outputs": []
    },
    {
      "cell_type": "code",
      "source": [
        "topics, probs = model.fit_transform(text)"
      ],
      "metadata": {
        "id": "lZYVGB05l33I"
      },
      "execution_count": null,
      "outputs": []
    },
    {
      "cell_type": "code",
      "source": [
        "model.visualize_topics()"
      ],
      "metadata": {
        "id": "zjcPqcMhluRA",
        "colab": {
          "base_uri": "https://localhost:8080/",
          "height": 667
        },
        "outputId": "dc7e10c4-aa13-4fe9-9b35-89bdc18f2733"
      },
      "execution_count": null,
      "outputs": [
        {
          "output_type": "display_data",
          "data": {
            "text/html": [
              "<html>\n",
              "<head><meta charset=\"utf-8\" /></head>\n",
              "<body>\n",
              "    <div>            <script src=\"https://cdnjs.cloudflare.com/ajax/libs/mathjax/2.7.5/MathJax.js?config=TeX-AMS-MML_SVG\"></script><script type=\"text/javascript\">if (window.MathJax && window.MathJax.Hub && window.MathJax.Hub.Config) {window.MathJax.Hub.Config({SVG: {font: \"STIX-Web\"}});}</script>                <script type=\"text/javascript\">window.PlotlyConfig = {MathJaxConfig: 'local'};</script>\n",
              "        <script charset=\"utf-8\" src=\"https://cdn.plot.ly/plotly-2.24.1.min.js\"></script>                <div id=\"c3e87890-f7c2-4bb1-89ea-7dabbd66bfca\" class=\"plotly-graph-div\" style=\"height:650px; width:650px;\"></div>            <script type=\"text/javascript\">                                    window.PLOTLYENV=window.PLOTLYENV || {};                                    if (document.getElementById(\"c3e87890-f7c2-4bb1-89ea-7dabbd66bfca\")) {                    Plotly.newPlot(                        \"c3e87890-f7c2-4bb1-89ea-7dabbd66bfca\",                        [{\"customdata\":[[0,\"\\ud55c\\uad6d | \\uc138\\uacc4 | \\uc774\\ubbfc | \\uac1c\\ub3c4\\uad6d | \\uac01\\uad6d\",497],[1,\"\\ubbf8\\ub798 | \\uc678\\uad6d\\uc778 | \\ub300\\ud55c\\ubbfc\\uad6d | \\uc77c\\uc790\\ub9ac | \\uce68\\uc2dd\",441],[2,\"\\ub09c\\ubbfc\\ubc95 | \\ub09c\\ubbfc | \\uc804\\uba74 | \\uc544\\uc2dc\\uc544 | \\ucd5c\\ucd08\",387],[3,\"\\uad6d\\ud68c | \\uac1c\\uc815\\uc548 | \\ub09c\\ubbfc\\ubc95 | \\uac1c\\uc815 | \\uacf5\\uccad\\ud68c\",102],[4,\"\\uc608\\uba58 | \\uc2dc\\ub9ac\\uc544 | \\ub09c\\ubbfc | \\uc0ac\\ub9dd | \\uc544\\ud504\\ub9ac\\uce74\",67],[5,\"\\uc2e4\\uccb4 | \\ub2f4\\ub860 | \\ub9dd\\uad6d | \\ub2e4\\ubb38\\ud654 | \\ub09c\\ubbfc\\ubc95\",55],[6,\"\\uad6d\\uac00 | \\ucc2c\\uc0ac | \\uc774\\ubbfc\\uc790 | \\uc9d0\\uc2b9 | \\uc2a4\\uc6e8\\ub374\",40],[7,\"\\ud310\\uacb0 | \\ubc95\\uc6d0 | \\ucd94\\ubc29 | \\uc2e0\\uccad | \\ub09c\\ubbfc\",36],[8,\"\\ub09c\\ubbfc\\ubc95 | \\uacf5\\uccad\\ud68c | \\uc5b4\\ud544 | \\uc13c\\ud130 | \\uc2dc\\ud589\\ub839\",29],[9,\"\\ub09c\\ubbfc\\ubc95 | \\uc81c\\uc8fc | \\ub09c\\ub9ac | \\ub09c\\ubbfc | \\uc0c1\\ud669\",28],[10,\"\\ube44\\uc6a9 | \\ucd08\\ub798 | \\ubd80\\uc791\\uc6a9 | \\uc0ac\\ud68c | \\ud3d0\\uae30\",23],[11,\"\\uc720\\ub7fd | \\ub3c5\\uc77c | \\ub098\\ub77c | \\ucc28\\ubcc4 | \\uc778\\uc885\",17],[12,\"\\uc544\\ud504\\ub9ac\\uce74 | \\ud751\\uc778 | \\ubc95\\ubb34\\ubd80 | \\uc791\\ub144 | \\ub0b4\\ub144\",13],[13,\"\\ud3d0\\uae30 | \\ub2e4\\ubb38\\ud654 | \\uc815\\ucc45 | \\uc720\\uc785 | \\uc9c0\\uc6d0\",12]],\"hovertemplate\":\"\\u003cb\\u003eTopic %{customdata[0]}\\u003c\\u002fb\\u003e\\u003cbr\\u003e%{customdata[1]}\\u003cbr\\u003eSize: %{customdata[2]}\",\"legendgroup\":\"\",\"marker\":{\"color\":\"#B0BEC5\",\"size\":[497,441,387,102,67,55,40,36,29,28,23,17,13,12],\"sizemode\":\"area\",\"sizeref\":0.310625,\"symbol\":\"circle\",\"line\":{\"color\":\"DarkSlateGrey\",\"width\":2}},\"mode\":\"markers\",\"name\":\"\",\"orientation\":\"v\",\"showlegend\":false,\"x\":[15.14830493927002,14.886540412902832,15.734923362731934,-0.6795801520347595,-0.34581458568573,-1.041268229484558,14.548030853271484,-0.20979931950569153,-0.9936110973358154,-1.4808605909347534,3.1659839153289795,2.9117281436920166,15.048367500305176,3.397409439086914],\"xaxis\":\"x\",\"y\":[-1.2191163301467896,-0.5938271880149841,-1.379887580871582,10.575122833251953,9.913054466247559,12.13550090789795,-0.2603248655796051,10.482234001159668,11.438538551330566,11.614547729492188,-6.148732662200928,-6.403065204620361,-1.6334917545318604,-5.91707181930542],\"yaxis\":\"y\",\"type\":\"scatter\"}],                        {\"template\":{\"data\":{\"barpolar\":[{\"marker\":{\"line\":{\"color\":\"white\",\"width\":0.5},\"pattern\":{\"fillmode\":\"overlay\",\"size\":10,\"solidity\":0.2}},\"type\":\"barpolar\"}],\"bar\":[{\"error_x\":{\"color\":\"rgb(36,36,36)\"},\"error_y\":{\"color\":\"rgb(36,36,36)\"},\"marker\":{\"line\":{\"color\":\"white\",\"width\":0.5},\"pattern\":{\"fillmode\":\"overlay\",\"size\":10,\"solidity\":0.2}},\"type\":\"bar\"}],\"carpet\":[{\"aaxis\":{\"endlinecolor\":\"rgb(36,36,36)\",\"gridcolor\":\"white\",\"linecolor\":\"white\",\"minorgridcolor\":\"white\",\"startlinecolor\":\"rgb(36,36,36)\"},\"baxis\":{\"endlinecolor\":\"rgb(36,36,36)\",\"gridcolor\":\"white\",\"linecolor\":\"white\",\"minorgridcolor\":\"white\",\"startlinecolor\":\"rgb(36,36,36)\"},\"type\":\"carpet\"}],\"choropleth\":[{\"colorbar\":{\"outlinewidth\":1,\"tickcolor\":\"rgb(36,36,36)\",\"ticks\":\"outside\"},\"type\":\"choropleth\"}],\"contourcarpet\":[{\"colorbar\":{\"outlinewidth\":1,\"tickcolor\":\"rgb(36,36,36)\",\"ticks\":\"outside\"},\"type\":\"contourcarpet\"}],\"contour\":[{\"colorbar\":{\"outlinewidth\":1,\"tickcolor\":\"rgb(36,36,36)\",\"ticks\":\"outside\"},\"colorscale\":[[0.0,\"#440154\"],[0.1111111111111111,\"#482878\"],[0.2222222222222222,\"#3e4989\"],[0.3333333333333333,\"#31688e\"],[0.4444444444444444,\"#26828e\"],[0.5555555555555556,\"#1f9e89\"],[0.6666666666666666,\"#35b779\"],[0.7777777777777778,\"#6ece58\"],[0.8888888888888888,\"#b5de2b\"],[1.0,\"#fde725\"]],\"type\":\"contour\"}],\"heatmapgl\":[{\"colorbar\":{\"outlinewidth\":1,\"tickcolor\":\"rgb(36,36,36)\",\"ticks\":\"outside\"},\"colorscale\":[[0.0,\"#440154\"],[0.1111111111111111,\"#482878\"],[0.2222222222222222,\"#3e4989\"],[0.3333333333333333,\"#31688e\"],[0.4444444444444444,\"#26828e\"],[0.5555555555555556,\"#1f9e89\"],[0.6666666666666666,\"#35b779\"],[0.7777777777777778,\"#6ece58\"],[0.8888888888888888,\"#b5de2b\"],[1.0,\"#fde725\"]],\"type\":\"heatmapgl\"}],\"heatmap\":[{\"colorbar\":{\"outlinewidth\":1,\"tickcolor\":\"rgb(36,36,36)\",\"ticks\":\"outside\"},\"colorscale\":[[0.0,\"#440154\"],[0.1111111111111111,\"#482878\"],[0.2222222222222222,\"#3e4989\"],[0.3333333333333333,\"#31688e\"],[0.4444444444444444,\"#26828e\"],[0.5555555555555556,\"#1f9e89\"],[0.6666666666666666,\"#35b779\"],[0.7777777777777778,\"#6ece58\"],[0.8888888888888888,\"#b5de2b\"],[1.0,\"#fde725\"]],\"type\":\"heatmap\"}],\"histogram2dcontour\":[{\"colorbar\":{\"outlinewidth\":1,\"tickcolor\":\"rgb(36,36,36)\",\"ticks\":\"outside\"},\"colorscale\":[[0.0,\"#440154\"],[0.1111111111111111,\"#482878\"],[0.2222222222222222,\"#3e4989\"],[0.3333333333333333,\"#31688e\"],[0.4444444444444444,\"#26828e\"],[0.5555555555555556,\"#1f9e89\"],[0.6666666666666666,\"#35b779\"],[0.7777777777777778,\"#6ece58\"],[0.8888888888888888,\"#b5de2b\"],[1.0,\"#fde725\"]],\"type\":\"histogram2dcontour\"}],\"histogram2d\":[{\"colorbar\":{\"outlinewidth\":1,\"tickcolor\":\"rgb(36,36,36)\",\"ticks\":\"outside\"},\"colorscale\":[[0.0,\"#440154\"],[0.1111111111111111,\"#482878\"],[0.2222222222222222,\"#3e4989\"],[0.3333333333333333,\"#31688e\"],[0.4444444444444444,\"#26828e\"],[0.5555555555555556,\"#1f9e89\"],[0.6666666666666666,\"#35b779\"],[0.7777777777777778,\"#6ece58\"],[0.8888888888888888,\"#b5de2b\"],[1.0,\"#fde725\"]],\"type\":\"histogram2d\"}],\"histogram\":[{\"marker\":{\"line\":{\"color\":\"white\",\"width\":0.6}},\"type\":\"histogram\"}],\"mesh3d\":[{\"colorbar\":{\"outlinewidth\":1,\"tickcolor\":\"rgb(36,36,36)\",\"ticks\":\"outside\"},\"type\":\"mesh3d\"}],\"parcoords\":[{\"line\":{\"colorbar\":{\"outlinewidth\":1,\"tickcolor\":\"rgb(36,36,36)\",\"ticks\":\"outside\"}},\"type\":\"parcoords\"}],\"pie\":[{\"automargin\":true,\"type\":\"pie\"}],\"scatter3d\":[{\"line\":{\"colorbar\":{\"outlinewidth\":1,\"tickcolor\":\"rgb(36,36,36)\",\"ticks\":\"outside\"}},\"marker\":{\"colorbar\":{\"outlinewidth\":1,\"tickcolor\":\"rgb(36,36,36)\",\"ticks\":\"outside\"}},\"type\":\"scatter3d\"}],\"scattercarpet\":[{\"marker\":{\"colorbar\":{\"outlinewidth\":1,\"tickcolor\":\"rgb(36,36,36)\",\"ticks\":\"outside\"}},\"type\":\"scattercarpet\"}],\"scattergeo\":[{\"marker\":{\"colorbar\":{\"outlinewidth\":1,\"tickcolor\":\"rgb(36,36,36)\",\"ticks\":\"outside\"}},\"type\":\"scattergeo\"}],\"scattergl\":[{\"marker\":{\"colorbar\":{\"outlinewidth\":1,\"tickcolor\":\"rgb(36,36,36)\",\"ticks\":\"outside\"}},\"type\":\"scattergl\"}],\"scattermapbox\":[{\"marker\":{\"colorbar\":{\"outlinewidth\":1,\"tickcolor\":\"rgb(36,36,36)\",\"ticks\":\"outside\"}},\"type\":\"scattermapbox\"}],\"scatterpolargl\":[{\"marker\":{\"colorbar\":{\"outlinewidth\":1,\"tickcolor\":\"rgb(36,36,36)\",\"ticks\":\"outside\"}},\"type\":\"scatterpolargl\"}],\"scatterpolar\":[{\"marker\":{\"colorbar\":{\"outlinewidth\":1,\"tickcolor\":\"rgb(36,36,36)\",\"ticks\":\"outside\"}},\"type\":\"scatterpolar\"}],\"scatter\":[{\"fillpattern\":{\"fillmode\":\"overlay\",\"size\":10,\"solidity\":0.2},\"type\":\"scatter\"}],\"scatterternary\":[{\"marker\":{\"colorbar\":{\"outlinewidth\":1,\"tickcolor\":\"rgb(36,36,36)\",\"ticks\":\"outside\"}},\"type\":\"scatterternary\"}],\"surface\":[{\"colorbar\":{\"outlinewidth\":1,\"tickcolor\":\"rgb(36,36,36)\",\"ticks\":\"outside\"},\"colorscale\":[[0.0,\"#440154\"],[0.1111111111111111,\"#482878\"],[0.2222222222222222,\"#3e4989\"],[0.3333333333333333,\"#31688e\"],[0.4444444444444444,\"#26828e\"],[0.5555555555555556,\"#1f9e89\"],[0.6666666666666666,\"#35b779\"],[0.7777777777777778,\"#6ece58\"],[0.8888888888888888,\"#b5de2b\"],[1.0,\"#fde725\"]],\"type\":\"surface\"}],\"table\":[{\"cells\":{\"fill\":{\"color\":\"rgb(237,237,237)\"},\"line\":{\"color\":\"white\"}},\"header\":{\"fill\":{\"color\":\"rgb(217,217,217)\"},\"line\":{\"color\":\"white\"}},\"type\":\"table\"}]},\"layout\":{\"annotationdefaults\":{\"arrowhead\":0,\"arrowwidth\":1},\"autotypenumbers\":\"strict\",\"coloraxis\":{\"colorbar\":{\"outlinewidth\":1,\"tickcolor\":\"rgb(36,36,36)\",\"ticks\":\"outside\"}},\"colorscale\":{\"diverging\":[[0.0,\"rgb(103,0,31)\"],[0.1,\"rgb(178,24,43)\"],[0.2,\"rgb(214,96,77)\"],[0.3,\"rgb(244,165,130)\"],[0.4,\"rgb(253,219,199)\"],[0.5,\"rgb(247,247,247)\"],[0.6,\"rgb(209,229,240)\"],[0.7,\"rgb(146,197,222)\"],[0.8,\"rgb(67,147,195)\"],[0.9,\"rgb(33,102,172)\"],[1.0,\"rgb(5,48,97)\"]],\"sequential\":[[0.0,\"#440154\"],[0.1111111111111111,\"#482878\"],[0.2222222222222222,\"#3e4989\"],[0.3333333333333333,\"#31688e\"],[0.4444444444444444,\"#26828e\"],[0.5555555555555556,\"#1f9e89\"],[0.6666666666666666,\"#35b779\"],[0.7777777777777778,\"#6ece58\"],[0.8888888888888888,\"#b5de2b\"],[1.0,\"#fde725\"]],\"sequentialminus\":[[0.0,\"#440154\"],[0.1111111111111111,\"#482878\"],[0.2222222222222222,\"#3e4989\"],[0.3333333333333333,\"#31688e\"],[0.4444444444444444,\"#26828e\"],[0.5555555555555556,\"#1f9e89\"],[0.6666666666666666,\"#35b779\"],[0.7777777777777778,\"#6ece58\"],[0.8888888888888888,\"#b5de2b\"],[1.0,\"#fde725\"]]},\"colorway\":[\"#1F77B4\",\"#FF7F0E\",\"#2CA02C\",\"#D62728\",\"#9467BD\",\"#8C564B\",\"#E377C2\",\"#7F7F7F\",\"#BCBD22\",\"#17BECF\"],\"font\":{\"color\":\"rgb(36,36,36)\"},\"geo\":{\"bgcolor\":\"white\",\"lakecolor\":\"white\",\"landcolor\":\"white\",\"showlakes\":true,\"showland\":true,\"subunitcolor\":\"white\"},\"hoverlabel\":{\"align\":\"left\"},\"hovermode\":\"closest\",\"mapbox\":{\"style\":\"light\"},\"paper_bgcolor\":\"white\",\"plot_bgcolor\":\"white\",\"polar\":{\"angularaxis\":{\"gridcolor\":\"rgb(232,232,232)\",\"linecolor\":\"rgb(36,36,36)\",\"showgrid\":false,\"showline\":true,\"ticks\":\"outside\"},\"bgcolor\":\"white\",\"radialaxis\":{\"gridcolor\":\"rgb(232,232,232)\",\"linecolor\":\"rgb(36,36,36)\",\"showgrid\":false,\"showline\":true,\"ticks\":\"outside\"}},\"scene\":{\"xaxis\":{\"backgroundcolor\":\"white\",\"gridcolor\":\"rgb(232,232,232)\",\"gridwidth\":2,\"linecolor\":\"rgb(36,36,36)\",\"showbackground\":true,\"showgrid\":false,\"showline\":true,\"ticks\":\"outside\",\"zeroline\":false,\"zerolinecolor\":\"rgb(36,36,36)\"},\"yaxis\":{\"backgroundcolor\":\"white\",\"gridcolor\":\"rgb(232,232,232)\",\"gridwidth\":2,\"linecolor\":\"rgb(36,36,36)\",\"showbackground\":true,\"showgrid\":false,\"showline\":true,\"ticks\":\"outside\",\"zeroline\":false,\"zerolinecolor\":\"rgb(36,36,36)\"},\"zaxis\":{\"backgroundcolor\":\"white\",\"gridcolor\":\"rgb(232,232,232)\",\"gridwidth\":2,\"linecolor\":\"rgb(36,36,36)\",\"showbackground\":true,\"showgrid\":false,\"showline\":true,\"ticks\":\"outside\",\"zeroline\":false,\"zerolinecolor\":\"rgb(36,36,36)\"}},\"shapedefaults\":{\"fillcolor\":\"black\",\"line\":{\"width\":0},\"opacity\":0.3},\"ternary\":{\"aaxis\":{\"gridcolor\":\"rgb(232,232,232)\",\"linecolor\":\"rgb(36,36,36)\",\"showgrid\":false,\"showline\":true,\"ticks\":\"outside\"},\"baxis\":{\"gridcolor\":\"rgb(232,232,232)\",\"linecolor\":\"rgb(36,36,36)\",\"showgrid\":false,\"showline\":true,\"ticks\":\"outside\"},\"bgcolor\":\"white\",\"caxis\":{\"gridcolor\":\"rgb(232,232,232)\",\"linecolor\":\"rgb(36,36,36)\",\"showgrid\":false,\"showline\":true,\"ticks\":\"outside\"}},\"title\":{\"x\":0.05},\"xaxis\":{\"automargin\":true,\"gridcolor\":\"rgb(232,232,232)\",\"linecolor\":\"rgb(36,36,36)\",\"showgrid\":false,\"showline\":true,\"ticks\":\"outside\",\"title\":{\"standoff\":15},\"zeroline\":false,\"zerolinecolor\":\"rgb(36,36,36)\"},\"yaxis\":{\"automargin\":true,\"gridcolor\":\"rgb(232,232,232)\",\"linecolor\":\"rgb(36,36,36)\",\"showgrid\":false,\"showline\":true,\"ticks\":\"outside\",\"title\":{\"standoff\":15},\"zeroline\":false,\"zerolinecolor\":\"rgb(36,36,36)\"}}},\"xaxis\":{\"anchor\":\"y\",\"domain\":[0.0,1.0],\"title\":{\"text\":\"\"},\"visible\":false,\"range\":[-1.7029896795749664,18.095161867141723]},\"yaxis\":{\"anchor\":\"x\",\"domain\":[0.0,1.0],\"title\":{\"text\":\"\"},\"visible\":false,\"range\":[-7.363524985313416,13.955826044082642]},\"legend\":{\"tracegroupgap\":0,\"itemsizing\":\"constant\"},\"margin\":{\"t\":60},\"title\":{\"font\":{\"size\":22,\"color\":\"Black\"},\"text\":\"\\u003cb\\u003eIntertopic Distance Map\\u003c\\u002fb\\u003e\",\"y\":0.95,\"x\":0.5,\"xanchor\":\"center\",\"yanchor\":\"top\"},\"hoverlabel\":{\"font\":{\"size\":16,\"family\":\"Rockwell\"},\"bgcolor\":\"white\"},\"width\":650,\"height\":650,\"sliders\":[{\"active\":0,\"pad\":{\"t\":50},\"steps\":[{\"args\":[{\"marker.color\":[[\"red\",\"#B0BEC5\",\"#B0BEC5\",\"#B0BEC5\",\"#B0BEC5\",\"#B0BEC5\",\"#B0BEC5\",\"#B0BEC5\",\"#B0BEC5\",\"#B0BEC5\",\"#B0BEC5\",\"#B0BEC5\",\"#B0BEC5\",\"#B0BEC5\"]]}],\"label\":\"Topic 0\",\"method\":\"update\"},{\"args\":[{\"marker.color\":[[\"#B0BEC5\",\"red\",\"#B0BEC5\",\"#B0BEC5\",\"#B0BEC5\",\"#B0BEC5\",\"#B0BEC5\",\"#B0BEC5\",\"#B0BEC5\",\"#B0BEC5\",\"#B0BEC5\",\"#B0BEC5\",\"#B0BEC5\",\"#B0BEC5\"]]}],\"label\":\"Topic 1\",\"method\":\"update\"},{\"args\":[{\"marker.color\":[[\"#B0BEC5\",\"#B0BEC5\",\"red\",\"#B0BEC5\",\"#B0BEC5\",\"#B0BEC5\",\"#B0BEC5\",\"#B0BEC5\",\"#B0BEC5\",\"#B0BEC5\",\"#B0BEC5\",\"#B0BEC5\",\"#B0BEC5\",\"#B0BEC5\"]]}],\"label\":\"Topic 2\",\"method\":\"update\"},{\"args\":[{\"marker.color\":[[\"#B0BEC5\",\"#B0BEC5\",\"#B0BEC5\",\"red\",\"#B0BEC5\",\"#B0BEC5\",\"#B0BEC5\",\"#B0BEC5\",\"#B0BEC5\",\"#B0BEC5\",\"#B0BEC5\",\"#B0BEC5\",\"#B0BEC5\",\"#B0BEC5\"]]}],\"label\":\"Topic 3\",\"method\":\"update\"},{\"args\":[{\"marker.color\":[[\"#B0BEC5\",\"#B0BEC5\",\"#B0BEC5\",\"#B0BEC5\",\"red\",\"#B0BEC5\",\"#B0BEC5\",\"#B0BEC5\",\"#B0BEC5\",\"#B0BEC5\",\"#B0BEC5\",\"#B0BEC5\",\"#B0BEC5\",\"#B0BEC5\"]]}],\"label\":\"Topic 4\",\"method\":\"update\"},{\"args\":[{\"marker.color\":[[\"#B0BEC5\",\"#B0BEC5\",\"#B0BEC5\",\"#B0BEC5\",\"#B0BEC5\",\"red\",\"#B0BEC5\",\"#B0BEC5\",\"#B0BEC5\",\"#B0BEC5\",\"#B0BEC5\",\"#B0BEC5\",\"#B0BEC5\",\"#B0BEC5\"]]}],\"label\":\"Topic 5\",\"method\":\"update\"},{\"args\":[{\"marker.color\":[[\"#B0BEC5\",\"#B0BEC5\",\"#B0BEC5\",\"#B0BEC5\",\"#B0BEC5\",\"#B0BEC5\",\"red\",\"#B0BEC5\",\"#B0BEC5\",\"#B0BEC5\",\"#B0BEC5\",\"#B0BEC5\",\"#B0BEC5\",\"#B0BEC5\"]]}],\"label\":\"Topic 6\",\"method\":\"update\"},{\"args\":[{\"marker.color\":[[\"#B0BEC5\",\"#B0BEC5\",\"#B0BEC5\",\"#B0BEC5\",\"#B0BEC5\",\"#B0BEC5\",\"#B0BEC5\",\"red\",\"#B0BEC5\",\"#B0BEC5\",\"#B0BEC5\",\"#B0BEC5\",\"#B0BEC5\",\"#B0BEC5\"]]}],\"label\":\"Topic 7\",\"method\":\"update\"},{\"args\":[{\"marker.color\":[[\"#B0BEC5\",\"#B0BEC5\",\"#B0BEC5\",\"#B0BEC5\",\"#B0BEC5\",\"#B0BEC5\",\"#B0BEC5\",\"#B0BEC5\",\"red\",\"#B0BEC5\",\"#B0BEC5\",\"#B0BEC5\",\"#B0BEC5\",\"#B0BEC5\"]]}],\"label\":\"Topic 8\",\"method\":\"update\"},{\"args\":[{\"marker.color\":[[\"#B0BEC5\",\"#B0BEC5\",\"#B0BEC5\",\"#B0BEC5\",\"#B0BEC5\",\"#B0BEC5\",\"#B0BEC5\",\"#B0BEC5\",\"#B0BEC5\",\"red\",\"#B0BEC5\",\"#B0BEC5\",\"#B0BEC5\",\"#B0BEC5\"]]}],\"label\":\"Topic 9\",\"method\":\"update\"},{\"args\":[{\"marker.color\":[[\"#B0BEC5\",\"#B0BEC5\",\"#B0BEC5\",\"#B0BEC5\",\"#B0BEC5\",\"#B0BEC5\",\"#B0BEC5\",\"#B0BEC5\",\"#B0BEC5\",\"#B0BEC5\",\"red\",\"#B0BEC5\",\"#B0BEC5\",\"#B0BEC5\"]]}],\"label\":\"Topic 10\",\"method\":\"update\"},{\"args\":[{\"marker.color\":[[\"#B0BEC5\",\"#B0BEC5\",\"#B0BEC5\",\"#B0BEC5\",\"#B0BEC5\",\"#B0BEC5\",\"#B0BEC5\",\"#B0BEC5\",\"#B0BEC5\",\"#B0BEC5\",\"#B0BEC5\",\"red\",\"#B0BEC5\",\"#B0BEC5\"]]}],\"label\":\"Topic 11\",\"method\":\"update\"},{\"args\":[{\"marker.color\":[[\"#B0BEC5\",\"#B0BEC5\",\"#B0BEC5\",\"#B0BEC5\",\"#B0BEC5\",\"#B0BEC5\",\"#B0BEC5\",\"#B0BEC5\",\"#B0BEC5\",\"#B0BEC5\",\"#B0BEC5\",\"#B0BEC5\",\"red\",\"#B0BEC5\"]]}],\"label\":\"Topic 12\",\"method\":\"update\"},{\"args\":[{\"marker.color\":[[\"#B0BEC5\",\"#B0BEC5\",\"#B0BEC5\",\"#B0BEC5\",\"#B0BEC5\",\"#B0BEC5\",\"#B0BEC5\",\"#B0BEC5\",\"#B0BEC5\",\"#B0BEC5\",\"#B0BEC5\",\"#B0BEC5\",\"#B0BEC5\",\"red\"]]}],\"label\":\"Topic 13\",\"method\":\"update\"}]}],\"shapes\":[{\"line\":{\"color\":\"#CFD8DC\",\"width\":2},\"type\":\"line\",\"x0\":8.196086093783379,\"x1\":8.196086093783379,\"y0\":-7.363524985313416,\"y1\":13.955826044082642},{\"line\":{\"color\":\"#9E9E9E\",\"width\":2},\"type\":\"line\",\"x0\":-1.7029896795749664,\"x1\":18.095161867141723,\"y0\":3.296150529384613,\"y1\":3.296150529384613}],\"annotations\":[{\"showarrow\":false,\"text\":\"D1\",\"x\":-1.7029896795749664,\"y\":3.296150529384613,\"yshift\":10},{\"showarrow\":false,\"text\":\"D2\",\"x\":8.196086093783379,\"xshift\":10,\"y\":13.955826044082642}]},                        {\"responsive\": true}                    ).then(function(){\n",
              "                            \n",
              "var gd = document.getElementById('c3e87890-f7c2-4bb1-89ea-7dabbd66bfca');\n",
              "var x = new MutationObserver(function (mutations, observer) {{\n",
              "        var display = window.getComputedStyle(gd).display;\n",
              "        if (!display || display === 'none') {{\n",
              "            console.log([gd, 'removed!']);\n",
              "            Plotly.purge(gd);\n",
              "            observer.disconnect();\n",
              "        }}\n",
              "}});\n",
              "\n",
              "// Listen for the removal of the full notebook cells\n",
              "var notebookContainer = gd.closest('#notebook-container');\n",
              "if (notebookContainer) {{\n",
              "    x.observe(notebookContainer, {childList: true});\n",
              "}}\n",
              "\n",
              "// Listen for the clearing of the current output cell\n",
              "var outputEl = gd.closest('.output');\n",
              "if (outputEl) {{\n",
              "    x.observe(outputEl, {childList: true});\n",
              "}}\n",
              "\n",
              "                        })                };                            </script>        </div>\n",
              "</body>\n",
              "</html>"
            ]
          },
          "metadata": {}
        }
      ]
    },
    {
      "cell_type": "code",
      "source": [
        "for i in range(0, 50):\n",
        "  print(i,'번째 토픽 :', model.get_topic(i))"
      ],
      "metadata": {
        "id": "1haeKQMMl_s4",
        "colab": {
          "base_uri": "https://localhost:8080/"
        },
        "outputId": "f04b23a0-9b4f-451b-defc-bd36ecec3f8a"
      },
      "execution_count": null,
      "outputs": [
        {
          "output_type": "stream",
          "name": "stdout",
          "text": [
            "0 번째 토픽 : [('한국', 0.09664653587881507), ('세계', 0.09552679099525403), ('이민', 0.08463378494728359), ('개도국', 0.06046643308035605), ('각국', 0.0603583818079787), ('정서', 0.0603583818079787), ('구청', 0.0603583818079787), ('완료', 0.06025083758510119), ('확대', 0.06007807590741117), ('설립', 0.06007807590741117), ('위장', 0.06003725334967982), ('난민', 0.05978434041783995), ('효력', 0.05695528240574908), ('징검다리', 0.05675048735750858), ('마디', 0.05653813894168391), ('후진국', 0.05653507115348363), ('시작', 0.055519524194680835), ('영주', 0.05116024018242239), ('사람', 0.050674297727058476), ('시행', 0.04497993456336921), ('\"\"', 0.04432537091693619), ('신청', 0.04234082497104052), ('난민법', 0.03628810334032745), ('비자', 0.004855967523235109), ('연장', 0.004213506466585598), ('의원', 0.0040801867312577345), ('인정', 0.004020041621261269), ('황우여', 0.0032902262790650036), ('탈북자', 0.003151332097878705), ('국제', 0.002990901812903604), ('급증', 0.0027652737767756967), ('유엔', 0.0027146386335793965), ('반기문', 0.0026780593283563026), ('대한민국', 0.0026558422032115676), ('대통령', 0.0025118826701310618), ('정착', 0.0024681699906233465), ('통과', 0.0023408981408477004), ('하나', 0.002187847234135095), ('최초', 0.0020534435017439817), ('아시아', 0.002034736152831909), ('정도', 0.001962929259384248), ('북송', 0.001906296050396583), ('사회', 0.001808888185788651), ('국가', 0.0017788289706427737), ('협약', 0.0017671545927265724), ('총장', 0.0017428991492975182), ('제도', 0.0016986744987272167), ('한국인', 0.0016234680793091086), ('발의', 0.0015939670298183736), ('내년', 0.0015756660489393524), ('외국인', 0.001529524089932888), ('입법', 0.001507658247057652), ('센터', 0.001495450906451802), ('국내', 0.0014611038551109), ('입국', 0.00138279709663996), ('시리아', 0.0013185076186856262), ('중국', 0.0013112266761534292), ('신청자', 0.0012769024277362673), ('강제', 0.0012340849953116732), ('생계비', 0.0012340849953116732), ('자유', 0.0012340849953116732), ('개정', 0.0012224393762652512), ('주민', 0.0012139918808087772), ('경제', 0.0012139918808087772), ('제정', 0.0011954752723637803), ('가족', 0.00119540036876209), ('사실', 0.00119540036876209), ('사건', 0.0011619327661983455), ('미국', 0.0011619327661983455), ('지위', 0.0011061095107102786), ('수단', 0.0010939236170675476), ('인권', 0.0010853329114731906), ('내용', 0.0010406790557983892), ('의견', 0.0010135249333041128), ('이상', 0.0010051054980384346), ('북한', 0.000981464629692124), ('제주', 0.0009742116390476542), ('정부', 0.0009048795445264655), ('발효', 0.0007896869901225931), ('체류', 0.0007835413674511551), ('지원', 0.0007617506125869653), ('노동자', 0.0007379555022690727), ('반대', 0.0007210582233609839), ('나라', 0.0006372476225243377), ('추진', 0.0006279706675327654), ('자격', 0.0006279706675327654), ('트윗', 0.0006279706675327654), ('취득', 0.0006279706675327654), ('미흡', 0.0006279706675327654), ('천국', 0.0006170424976558366), ('사용', 0.0006170424976558366), ('제정안', 0.0006170424976558366), ('예산', 0.0006170424976558366), ('올해', 0.0006170424976558366), ('이슈', 0.0006069959404043886), ('어필', 0.000597700184381045), ('법률', 0.0005809663830991728), ('수용', 0.0005809663830991728), ('매매', 0.0005809663830991728), ('다문화', 0.0005796005868714907)]\n",
            "1 번째 토픽 : [('미래', 0.09584494630628018), ('외국인', 0.09329084124358794), ('대한민국', 0.08906647035816476), ('일자리', 0.06881484226842072), ('침식', 0.06869123723303457), ('천만', 0.06841586666729449), ('자살', 0.06841586666729449), ('서민', 0.06794045706182786), ('문제', 0.0670570838797843), ('블루오션', 0.06676907783328624), ('내국인', 0.06664225320990601), ('노동자', 0.06660322558505188), ('한미', 0.06626561591022918), ('발효', 0.06606508430552073), ('난민법', 0.040876889378590735), ('한국', 0.02994921512453026), ('난민', 0.02324167277519238), ('환상', 0.022235305337755747), ('생활비', 0.022085369837902807), ('수령', 0.022084618535421402), ('체류', 0.02131212909484537), ('실시', 0.021256940560314932), ('의식주', 0.021256247533052792), ('해결', 0.021252774819576912), ('신청', 0.021122947667913637), ('바보', 0.020533543917086262), ('요지경', 0.020117283467293468), ('폭증', 0.020020205319159105), ('합법', 0.019895345861863197), ('연장', 0.019795637326011535), ('지름길', 0.01923247003076113), ('중국', 0.015130621938206777), ('개구멍', 0.013270480819867704), ('제주', 0.013249156381254379), ('구멍', 0.0114924656143053), ('나라', 0.01142400680780061), ('영주', 0.011076400858420847), ('북한', 0.010920924119783973), ('국민', 0.010704604794972894), ('통과', 0.010611973927622007), ('대박', 0.01025655745266781), ('인권', 0.009840261187249082), ('황우여', 0.009661211905303965), ('우리', 0.009647249025110915), ('북송', 0.008838200365048447), ('불법', 0.008564405553470425), ('호주', 0.008363198368637265), ('우리나라', 0.008307618776988867), ('소리', 0.008287733705573178), ('다문화', 0.008240790699870331), ('반대', 0.007131855713993702), ('사람', 0.007119463924225897), ('이것', 0.0070889516376737), ('저지', 0.007076552465769994), ('위험', 0.006987536587769561), ('테러', 0.006916950053435254), ('집회', 0.006865936980016518), ('유입', 0.006837704968445207), ('생각', 0.006834654498784111), ('정치', 0.00676237468270131), ('체류자', 0.006520559498258213), ('전쟁', 0.006464511908046732), ('폐지', 0.0063929158918325105), ('국가', 0.006231234452456547), ('범죄자', 0.006211143633572943), ('이유', 0.006163013694454895), ('정부', 0.006153124285883702), ('오늘', 0.005789906562902723), ('정책', 0.005759179065276189), ('범죄', 0.005687348922800445), ('이상', 0.005591990044459728), ('세금', 0.0054604620598919865), ('정도', 0.0054604620598919865), ('우려', 0.0053524758116102805), ('인종', 0.005297639526063686), ('입국', 0.00512887294783775), ('자국민', 0.0051001438188142635), ('외국', 0.005097926341643246), ('개정', 0.005037885619688485), ('예멘', 0.004928202342662047), ('제정', 0.004926761850338035), ('매국노', 0.004900373463975153), ('상황', 0.0048171708100720806), ('추방', 0.004781680043593689), ('문화', 0.004683416335158995), ('단체', 0.004589524203229977), ('의원', 0.004585952806885533), ('시행', 0.00452122307031535), ('인정', 0.004473168790396397), ('이해', 0.0044338078435924725), ('일본', 0.004314109586118427), ('국내', 0.00421502445881307), ('하나', 0.004057424809620787), ('시간', 0.004057424809620787), ('한국인', 0.004014356858707709), ('필요', 0.004014356858707709), ('발의', 0.003941409480270429), ('탈북자', 0.003896156562120019), ('국회', 0.0038693716555418664), ('중국인', 0.0038251015758942017)]\n",
            "2 번째 토픽 : [('난민법', 0.0629321983858713), ('난민', 0.05405665747273122), ('전면', 0.050727269375730404), ('아시아', 0.0488157009028194), ('최초', 0.048368793688761555), ('시행', 0.04354768703734883), ('제주', 0.04164550452059605), ('권리', 0.0374446819207253), ('신청', 0.03450823968942198), ('뉴스', 0.03428460952433765), ('지원', 0.03289551916925221), ('인권', 0.029352385353289958), ('의원', 0.028153042799276728), ('신청자', 0.026735461692258166), ('반대', 0.02453317038635358), ('대한민국', 0.02432821811577643), ('바다', 0.02407750098019937), ('척결', 0.02336855360528509), ('법무부', 0.023158101236746487), ('북송', 0.02245137017235287), ('서울', 0.022229011983344243), ('요지경', 0.02074703745051567), ('정작', 0.02065233340014296), ('구럼비', 0.02065233340014296), ('폭증', 0.020646920355767526), ('바보', 0.020646920355767526), ('실시', 0.02035648690507548), ('목숨', 0.02033605607467587), ('국민', 0.020316259417798636), ('불법', 0.020262809687639115), ('폐지', 0.019684484670191568), ('이름', 0.01962538629394669), ('코빼기', 0.01937922080054993), ('돌고래', 0.01937922080054993), ('연합', 0.01937922080054993), ('방사', 0.01937922080054993), ('종북', 0.01937922080054993), ('지름길', 0.019285092857439932), ('현장', 0.019265143718898342), ('저지', 0.019065791655368636), ('세력', 0.019035125893740085), ('시행령', 0.01870947514362739), ('바위', 0.018500119074054078), ('다문화', 0.0182032968422474), ('기자', 0.018078901231115482), ('나라', 0.017512071088920472), ('예멘', 0.017387415881147054), ('미래', 0.017362478311470166), ('통과', 0.01735881906122648), ('체류자', 0.017254112943859586), ('발의', 0.016687040269780695), ('국내', 0.016570788445955317), ('황우여', 0.016146077303226276), ('입법', 0.015783484483104213), ('인정', 0.015781991212474703), ('제정', 0.015644100252919402), ('박명재', 0.015643120057442977), ('외국인', 0.015567606484144009), ('네이버', 0.015419946373815259), ('한국', 0.015415538638153925), ('다음', 0.015412244569046121), ('매매', 0.01520515990733729), ('영주권', 0.015073971288270894), ('보호', 0.01458938937105841), ('누리', 0.014534415600412449), ('중국', 0.013727067083863185), ('절차', 0.013505861270756018), ('정책', 0.013299854941954488), ('출입국', 0.0131781640802816), ('강정', 0.013148291804447624), ('계획', 0.013148291804447624), ('미흡', 0.013148291804447624), ('한미', 0.013065000596948137), ('국제', 0.013046406141937134), ('의료', 0.013027186449318938), ('제정안', 0.012919480533699955), ('개정', 0.012797564013245756), ('강화', 0.012514496045954383), ('사람', 0.012056882878828121), ('기지', 0.011936773121775062), ('매국노', 0.011855473057783594), ('내국인', 0.011756178939595175), ('보장', 0.011741765527743421), ('출처', 0.011713923626916976), ('대표', 0.011579721288283499), ('북한', 0.011559183426784591), ('우리', 0.011232177039617135), ('개정안', 0.011139775705107569), ('이슈', 0.011120487215461595), ('블루오션', 0.011085695743103465), ('발효', 0.01102284498000702), ('공항', 0.010996966402487101), ('해군', 0.010796430276052843), ('소리', 0.010796430276052843), ('시위', 0.010643611935136103), ('사건', 0.010643611935136103), ('의견', 0.010610464997133388), ('이자스민', 0.01050455876614357), ('급증', 0.010132256127248062), ('개선', 0.01002063011342935)]\n",
            "3 번째 토픽 : [('국회', 0.10229542215513934), ('개정안', 0.09738509182201932), ('난민법', 0.08920275584749585), ('개정', 0.06356684756579306), ('공청회', 0.06216081917562868), ('발의', 0.05802039988538879), ('의원', 0.057864466370564235), ('통과', 0.05680579488457086), ('부탁', 0.05437845345808257), ('내용', 0.05411531090151623), ('제정', 0.05387608560786103), ('법률안', 0.053668027681162064), ('최초', 0.053389531045343525), ('시행', 0.05324454042623217), ('아시아', 0.05290313997362963), ('국민', 0.05278526105818735), ('일부', 0.05143280411077918), ('독립', 0.050652204074444186), ('법사위', 0.05050206224164513), ('입법', 0.04703893730819874), ('시행령', 0.04460732757928004), ('법무부', 0.04382046725249022), ('처우', 0.04174179930757049), ('포럼', 0.0393961587245677), ('여러분', 0.03850345185372421), ('관심', 0.037296491505377206), ('난민', 0.03691945232820994), ('의견', 0.0368923075722697), ('보장', 0.036289608663230395), ('이번', 0.035778685120774714), ('개선', 0.034130416852507485), ('인권', 0.03386238683796355), ('폐기', 0.03274090428095134), ('다문화', 0.030139230517317518), ('황우여', 0.02994105913949153), ('우려', 0.028140113374691213), ('신청자', 0.02655957049691436), ('전면', 0.026292280351494134), ('촉구', 0.025668967902482805), ('대만', 0.025668967902482805), ('다음', 0.02551808037199522), ('이자스민', 0.02385245674718314), ('정책', 0.02202059316047289), ('뉴스', 0.021286908051706355), ('인정', 0.0209042164305586), ('우리', 0.020287783887346738), ('지원', 0.019805515927261097), ('노력', 0.019592684827022283), ('역차별', 0.019251725926862105), ('선진국', 0.018938273340616926), ('유엔', 0.018821494526150482), ('법률', 0.01812615115269419), ('가능', 0.01812615115269419), ('절차', 0.017889342560387357), ('새누리당', 0.01745528750984668), ('대표', 0.017255308367080346), ('하나', 0.017065208426253742), ('기구', 0.01671109020894333), ('내년', 0.016386926908969267), ('사회', 0.015049949705761576), ('반대', 0.014998011045908465), ('정부', 0.014116120894612862), ('권리', 0.013949375748428094), ('나라', 0.013254750548506224), ('현실', 0.013212355896283737), ('부결', 0.01306178988468152), ('위협', 0.012834483951241402), ('자국', 0.012834483951241402), ('당신', 0.012834483951241402), ('예산', 0.012834483951241402), ('명단', 0.012625515560411282), ('박명재', 0.012432163835125735), ('협약', 0.012252271842904236), ('법안', 0.012084100768462792), ('제도', 0.011777476524508702), ('규정', 0.011777476524508702), ('심사', 0.011636858339897785), ('출입국', 0.011636858339897785), ('변호사', 0.011503538911386897), ('의료', 0.011503538911386897), ('안전', 0.011376805617502494), ('시간', 0.011376805617502494), ('필요', 0.011256045349876486), ('단체', 0.011030386553101219), ('오늘', 0.010823062180303246), ('자국민', 0.010725401129499863), ('생각', 0.010453097179599719), ('문제', 0.010302714185134848), ('추방', 0.010055684381149491), ('우리나라', 0.009983196774678538), ('담론', 0.008808237264189157), ('망국', 0.008361686572223439), ('기본', 0.006655466855347674), ('주변', 0.006655466855347674), ('장관', 0.00653089494234076), ('계획', 0.00653089494234076), ('작년', 0.00653089494234076), ('최소한', 0.00653089494234076), ('올해', 0.006417241975620701), ('제정안', 0.006417241975620701)]\n",
            "4 번째 토픽 : [('예멘', 0.4451093023726564), ('시리아', 0.24752091918480304), ('난민', 0.12691319440052512), ('사망', 0.07317169763408812), ('아프리카', 0.068666547910682), ('제주', 0.06306444549576297), ('입국', 0.05370824693779973), ('기구', 0.05200830695658038), ('여성', 0.05052535170166134), ('밀입국', 0.04793222507588926), ('수단', 0.042488315819665334), ('우려', 0.042037319242781965), ('바다', 0.042037319242781965), ('뉴스', 0.0397495088926212), ('이유', 0.03872250275051611), ('이야기', 0.035949168806916953), ('올해', 0.035949168806916953), ('유엔', 0.035145788304359625), ('미국', 0.03384735841780733), ('수용', 0.03384735841780733), ('출처', 0.03259464006752697), ('오늘', 0.03031521102099681), ('보호', 0.02952420542814143), ('인권', 0.02810310018766289), ('자국', 0.02396611253794463), ('집회', 0.02396611253794463), ('강제', 0.02396611253794463), ('동안', 0.023575901292168487), ('비자', 0.023575901292168487), ('국가', 0.023030080563407836), ('전쟁', 0.022564905611871553), ('사건', 0.022564905611871553), ('현장', 0.021992339456085048), ('규정', 0.021992339456085048), ('테러', 0.021729760045017976), ('출입국', 0.021729760045017976), ('이후', 0.02148080976082074), ('대표', 0.02148080976082074), ('네이버', 0.020803322782632153), ('유럽', 0.01985215488040581), ('국내', 0.018916568174932927), ('상황', 0.018916568174932927), ('우리나라', 0.01864184164313437), ('나라', 0.01856316415884164), ('사람', 0.017892769677671217), ('우리', 0.01515352899693712), ('통과', 0.01515352899693712), ('지원', 0.01479330919382647), ('반대', 0.014003056996179894), ('외국인', 0.013201592581850448), ('연합뉴스', 0.012427898796226616), ('영주권', 0.012427898796226616), ('발생', 0.012427898796226616), ('투표', 0.012427898796226616), ('최소한', 0.012195282939014687), ('작년', 0.012195282939014687), ('중동', 0.012195282939014687), ('이슬람', 0.012195282939014687), ('당신', 0.011983056268972316), ('자유', 0.011983056268972316), ('증가', 0.011983056268972316), ('사용', 0.011983056268972316), ('교육', 0.011983056268972316), ('촉구', 0.011983056268972316), ('이슈', 0.011787950646084244), ('악용', 0.011787950646084244), ('난리', 0.011607425693729188), ('거부', 0.011607425693729188), ('어필', 0.011607425693729188), ('사실', 0.011607425693729188), ('국민', 0.011596126146617251), ('협약', 0.011439467568313537), ('언론', 0.011439467568313537), ('혐오', 0.011282452805935777), ('가능', 0.011282452805935777), ('총장', 0.011282452805935777), ('새끼', 0.011282452805935777), ('시위', 0.011282452805935777), ('이번', 0.011135053518341024), ('브로커', 0.010996169728042524), ('심사', 0.010864880022508988), ('지위', 0.01074040488041037), ('급증', 0.01074040488041037), ('의료', 0.01074040488041037), ('차별', 0.01074040488041037), ('시간', 0.010622078954916334), ('안전', 0.010622078954916334), ('독립', 0.010509329810695491), ('필요', 0.010509329810695491), ('반기문', 0.010401661391316076), ('이름', 0.010401661391316076), ('허가', 0.010298641007809492), ('공항', 0.010199888985107814), ('내용', 0.01010507034033227), ('보장', 0.009680625687629028), ('일본', 0.009680625687629028), ('국제', 0.009680625687629028), ('다음', 0.009530093898140721), ('정도', 0.009530093898140721), ('북한', 0.009530093898140721)]\n",
            "5 번째 토픽 : [('실체', 0.6581692626944584), ('담론', 0.6570292537065542), ('망국', 0.6354881794889815), ('다문화', 0.4581163038632263), ('난민법', 0.11803340279915561), ('문제', 0.007250058130280079), ('난민', 0.00236185048564306), ('', 1e-05), ('', 1e-05), ('', 1e-05), ('', 1e-05), ('', 1e-05), ('', 1e-05), ('', 1e-05), ('', 1e-05), ('', 1e-05), ('', 1e-05), ('', 1e-05), ('', 1e-05), ('', 1e-05), ('', 1e-05), ('', 1e-05), ('', 1e-05), ('', 1e-05), ('', 1e-05), ('', 1e-05), ('', 1e-05), ('', 1e-05), ('', 1e-05), ('', 1e-05), ('', 1e-05), ('', 1e-05), ('', 1e-05), ('', 1e-05), ('', 1e-05), ('', 1e-05), ('', 1e-05), ('', 1e-05), ('', 1e-05), ('', 1e-05), ('', 1e-05), ('', 1e-05), ('', 1e-05), ('', 1e-05), ('', 1e-05), ('', 1e-05), ('', 1e-05), ('', 1e-05), ('', 1e-05), ('', 1e-05), ('', 1e-05), ('', 1e-05), ('', 1e-05), ('', 1e-05), ('', 1e-05), ('', 1e-05), ('', 1e-05), ('', 1e-05), ('', 1e-05), ('', 1e-05), ('', 1e-05), ('', 1e-05), ('', 1e-05), ('', 1e-05), ('', 1e-05), ('', 1e-05), ('', 1e-05), ('', 1e-05), ('', 1e-05), ('', 1e-05), ('', 1e-05), ('', 1e-05), ('', 1e-05), ('', 1e-05), ('', 1e-05), ('', 1e-05), ('', 1e-05), ('', 1e-05), ('', 1e-05), ('', 1e-05), ('', 1e-05), ('', 1e-05), ('', 1e-05), ('', 1e-05), ('', 1e-05), ('', 1e-05), ('', 1e-05), ('', 1e-05), ('', 1e-05), ('', 1e-05), ('', 1e-05), ('', 1e-05), ('', 1e-05), ('', 1e-05), ('', 1e-05), ('', 1e-05), ('', 1e-05), ('', 1e-05), ('', 1e-05), ('', 1e-05)]\n",
            "6 번째 토픽 : [('국가', 0.25527686367526015), ('찬사', 0.20237767147827887), ('이민자', 0.1947866961435406), ('짐승', 0.19465519111256283), ('스웨덴', 0.19248579943361668), ('정치인', 0.19213892122192666), ('중국인', 0.18540447450883518), ('복지', 0.18515978869762634), ('자국인', 0.1827985128524594), ('현실', 0.1823157489598929), ('재산', 0.18014371833637807), ('자랑', 0.17763563800445695), ('생명', 0.173001564507745), ('사회', 0.15575436776493473), ('대한민국', 0.062301013470868), ('세계', 0.05917508638124076), ('한국', 0.03663146328367681), ('난민법', 0.03237076562292739), ('언론', 0.006502602374725712), ('중국', 0.004824923486180962), ('', 1e-05), ('', 1e-05), ('', 1e-05), ('', 1e-05), ('', 1e-05), ('', 1e-05), ('', 1e-05), ('', 1e-05), ('', 1e-05), ('', 1e-05), ('', 1e-05), ('', 1e-05), ('', 1e-05), ('', 1e-05), ('', 1e-05), ('', 1e-05), ('', 1e-05), ('', 1e-05), ('', 1e-05), ('', 1e-05), ('', 1e-05), ('', 1e-05), ('', 1e-05), ('', 1e-05), ('', 1e-05), ('', 1e-05), ('', 1e-05), ('', 1e-05), ('', 1e-05), ('', 1e-05), ('', 1e-05), ('', 1e-05), ('', 1e-05), ('', 1e-05), ('', 1e-05), ('', 1e-05), ('', 1e-05), ('', 1e-05), ('', 1e-05), ('', 1e-05), ('', 1e-05), ('', 1e-05), ('', 1e-05), ('', 1e-05), ('', 1e-05), ('', 1e-05), ('', 1e-05), ('', 1e-05), ('', 1e-05), ('', 1e-05), ('', 1e-05), ('', 1e-05), ('', 1e-05), ('', 1e-05), ('', 1e-05), ('', 1e-05), ('', 1e-05), ('', 1e-05), ('', 1e-05), ('', 1e-05), ('', 1e-05), ('', 1e-05), ('', 1e-05), ('', 1e-05), ('', 1e-05), ('', 1e-05), ('', 1e-05), ('', 1e-05), ('', 1e-05), ('', 1e-05), ('', 1e-05), ('', 1e-05), ('', 1e-05), ('', 1e-05), ('', 1e-05), ('', 1e-05), ('', 1e-05), ('', 1e-05), ('', 1e-05), ('', 1e-05)]\n",
            "7 번째 토픽 : [('판결', 0.1682496646358386), ('법원', 0.12835713359233009), ('추방', 0.11492210721313703), ('신청', 0.10668331504816891), ('난민', 0.09269819199290806), ('취득', 0.08707859923121013), ('사용', 0.08556322634160934), ('체류', 0.08536869755848775), ('조달', 0.08417010373607521), ('수단', 0.07584537078334996), ('노동자', 0.07309273546284148), ('개구멍', 0.07087567575723829), ('난민법', 0.06680222660129928), ('연장', 0.06677404533712795), ('합법', 0.05872158176126104), ('외국인', 0.0572317162116687), ('지름길', 0.05676508813788361), ('인정', 0.05574457714815626), ('규정', 0.04486657723622363), ('심사', 0.044330888913896326), ('이름', 0.042440864022713215), ('여성', 0.04123071306782189), ('불법', 0.040359903216376544), ('우리', 0.03864339788066045), ('영주', 0.03736258049749873), ('자격', 0.03731939967051863), ('신청자', 0.033726438726240454), ('취업', 0.03286725403253399), ('내용', 0.030923034800866417), ('국내', 0.028943771606006398), ('입국', 0.027392552009629683), ('폐기', 0.026727268800776603), ('현실', 0.02516639218339759), ('인간', 0.024048601067450062), ('가능', 0.023017334797071985), ('변호사', 0.021911502688355993), ('허가', 0.02101026010114518), ('이유', 0.019749446891553956), ('의식주', 0.01792523288204808), ('체류자', 0.017412672043594302), ('장관', 0.012439799890172876), ('영종도', 0.012439799890172876), ('밀입국', 0.012223318048801335), ('촉구', 0.012223318048801335), ('역차별', 0.012223318048801335), ('당신', 0.012223318048801335), ('강제', 0.012223318048801335), ('비자', 0.012024300533725031), ('주민', 0.012024300533725031), ('기사', 0.012024300533725031), ('사실', 0.011840156033453082), ('거부', 0.011840156033453082), ('국민', 0.011828629929005567), ('협약', 0.011668830326575463), ('외국', 0.011668830326575463), ('출입국', 0.011082722228474081), ('의료', 0.010955751344177997), ('지위', 0.010955751344177997), ('이후', 0.010955751344177997), ('안전', 0.010835052969049994), ('필요', 0.010720043190358557), ('범죄', 0.010125096536748326), ('보호', 0.010038723148916927), ('보장', 0.009874723445776978), ('상황', 0.0096479238686688), ('우리나라', 0.009507806452074797), ('시행령', 0.009440704249583078), ('사람', 0.009125760975955119), ('정부', 0.00896261644102404), ('권리', 0.00885674650693847), ('법무부', 0.008346755667140994), ('황우여', 0.00814722697673239), ('개정', 0.00807198064327531), ('제정', 0.007893931957195755), ('통과', 0.00772867957613209), ('지원', 0.007544958448480418), ('사회', 0.007166642717029321), ('인권', 0.007166642717029321), ('반대', 0.007141910021861174), ('예멘', 0.006580199995120815), ('제주', 0.006432889553076573), ('나라', 0.0063117859754791535), ('국가', 0.0058729591411697925), ('다문화', 0.005740805812822384), ('대한민국', 0.0032881855849286076), ('한국', 0.0016433663979393855), ('', 1e-05), ('', 1e-05), ('', 1e-05), ('', 1e-05), ('', 1e-05), ('', 1e-05), ('', 1e-05), ('', 1e-05), ('', 1e-05), ('', 1e-05), ('', 1e-05), ('', 1e-05), ('', 1e-05), ('', 1e-05)]\n",
            "8 번째 토픽 : [('난민법', 0.2094349534880965), ('공청회', 0.17075502134991974), ('어필', 0.17075502134991974), ('센터', 0.14241016824813305), ('시행령', 0.1361508793584451), ('시행', 0.08706078038712661), ('제정', 0.07589587592580979), ('투표', 0.06094162421764136), ('생계비', 0.05876028796953895), ('예산', 0.05876028796953895), ('법사위', 0.057803565216340815), ('국적', 0.05691834044997325), ('법안', 0.05532479869898628), ('주년', 0.05392097685919647), ('출입국', 0.053277182760977815), ('새누리당', 0.053277182760977815), ('의료', 0.052666804654542425), ('네이버', 0.051005737183923414), ('내년', 0.050016323095649164), ('내용', 0.04955136901825583), ('입법', 0.04785755335238426), ('생각', 0.04785755335238426), ('국회', 0.0425764079068488), ('정책', 0.0403268694023118), ('법무부', 0.04012476519505129), ('황우여', 0.03916558510501474), ('뉴스', 0.03898325329951043), ('개정', 0.03880385875502227), ('우리', 0.037153531938273546), ('통과', 0.037153531938273546), ('지원', 0.036270342421008274), ('의원', 0.0353228871017099), ('인권', 0.0344516920975265), ('반대', 0.03433279637015191), ('난민', 0.030732512343307285), ('국민', 0.028431465913694106), ('국가', 0.028232659003936716), ('외국인', 0.01618388006269016), ('', 1e-05), ('', 1e-05), ('', 1e-05), ('', 1e-05), ('', 1e-05), ('', 1e-05), ('', 1e-05), ('', 1e-05), ('', 1e-05), ('', 1e-05), ('', 1e-05), ('', 1e-05), ('', 1e-05), ('', 1e-05), ('', 1e-05), ('', 1e-05), ('', 1e-05), ('', 1e-05), ('', 1e-05), ('', 1e-05), ('', 1e-05), ('', 1e-05), ('', 1e-05), ('', 1e-05), ('', 1e-05), ('', 1e-05), ('', 1e-05), ('', 1e-05), ('', 1e-05), ('', 1e-05), ('', 1e-05), ('', 1e-05), ('', 1e-05), ('', 1e-05), ('', 1e-05), ('', 1e-05), ('', 1e-05), ('', 1e-05), ('', 1e-05), ('', 1e-05), ('', 1e-05), ('', 1e-05), ('', 1e-05), ('', 1e-05), ('', 1e-05), ('', 1e-05), ('', 1e-05), ('', 1e-05), ('', 1e-05), ('', 1e-05), ('', 1e-05), ('', 1e-05), ('', 1e-05), ('', 1e-05), ('', 1e-05), ('', 1e-05), ('', 1e-05), ('', 1e-05), ('', 1e-05), ('', 1e-05), ('', 1e-05), ('', 1e-05)]\n",
            "9 번째 토픽 : [('난민법', 0.31091725615387333), ('제주', 0.2504119933343954), ('난리', 0.23044986621208682), ('난민', 0.10887554677720447), ('상황', 0.09389077130728905), ('우리나라', 0.09252718961897181), ('폐지', 0.09062064589021118), ('망국', 0.07749855847426602), ('우리', 0.07521324758235864), ('예멘', 0.06403658044032208), ('', 1e-05), ('', 1e-05), ('', 1e-05), ('', 1e-05), ('', 1e-05), ('', 1e-05), ('', 1e-05), ('', 1e-05), ('', 1e-05), ('', 1e-05), ('', 1e-05), ('', 1e-05), ('', 1e-05), ('', 1e-05), ('', 1e-05), ('', 1e-05), ('', 1e-05), ('', 1e-05), ('', 1e-05), ('', 1e-05), ('', 1e-05), ('', 1e-05), ('', 1e-05), ('', 1e-05), ('', 1e-05), ('', 1e-05), ('', 1e-05), ('', 1e-05), ('', 1e-05), ('', 1e-05), ('', 1e-05), ('', 1e-05), ('', 1e-05), ('', 1e-05), ('', 1e-05), ('', 1e-05), ('', 1e-05), ('', 1e-05), ('', 1e-05), ('', 1e-05), ('', 1e-05), ('', 1e-05), ('', 1e-05), ('', 1e-05), ('', 1e-05), ('', 1e-05), ('', 1e-05), ('', 1e-05), ('', 1e-05), ('', 1e-05), ('', 1e-05), ('', 1e-05), ('', 1e-05), ('', 1e-05), ('', 1e-05), ('', 1e-05), ('', 1e-05), ('', 1e-05), ('', 1e-05), ('', 1e-05), ('', 1e-05), ('', 1e-05), ('', 1e-05), ('', 1e-05), ('', 1e-05), ('', 1e-05), ('', 1e-05), ('', 1e-05), ('', 1e-05), ('', 1e-05), ('', 1e-05), ('', 1e-05), ('', 1e-05), ('', 1e-05), ('', 1e-05), ('', 1e-05), ('', 1e-05), ('', 1e-05), ('', 1e-05), ('', 1e-05), ('', 1e-05), ('', 1e-05), ('', 1e-05), ('', 1e-05), ('', 1e-05), ('', 1e-05), ('', 1e-05), ('', 1e-05), ('', 1e-05), ('', 1e-05)]\n",
            "10 번째 토픽 : [('비용', 0.37041295454215695), ('초래', 0.37041295454215695), ('부작용', 0.30867746211846414), ('사회', 0.25337257099573285), ('폐기', 0.13498962343683374), ('부결', 0.1256577254728855), ('청원', 0.12347098484738564), ('다문화', 0.11597881110461425), ('필요', 0.10828600589754594), ('난민법', 0.0990176647187393), ('우리', 0.0975868085720476), ('개정', 0.08153722219409743), ('반대', 0.0721423316132306), ('체류자', 0.06595876087399487), ('역차별', 0.06173549242369282), ('자국', 0.06173549242369282), ('지위', 0.05533347830793697), ('안전', 0.054723875122163895), ('센터', 0.04987360322613942), ('상황', 0.04872812181770697), ('국민', 0.04480655071208755), ('인권', 0.03619608157081898), ('추진', 0.03141443136822138), ('장관', 0.03141443136822138), ('영종도', 0.03141443136822138), ('가족', 0.029900140869289743), ('제도', 0.028325576451350046), ('우려', 0.027071501474386486), ('서민', 0.026951063663208333), ('국제', 0.02493680161306971), ('정도', 0.024549039345210594), ('난민', 0.024216441688238968), ('정부', 0.02263344278461134), ('권리', 0.022366087697901584), ('아프리카', 0.022110193828835105), ('복지', 0.02151483425957489), ('망국', 0.020110385426866502), ('지원', 0.019053407727491686), ('나라', 0.015939256988710016), ('시행', 0.009146892116622164), ('', 1e-05), ('', 1e-05), ('', 1e-05), ('', 1e-05), ('', 1e-05), ('', 1e-05), ('', 1e-05), ('', 1e-05), ('', 1e-05), ('', 1e-05), ('', 1e-05), ('', 1e-05), ('', 1e-05), ('', 1e-05), ('', 1e-05), ('', 1e-05), ('', 1e-05), ('', 1e-05), ('', 1e-05), ('', 1e-05), ('', 1e-05), ('', 1e-05), ('', 1e-05), ('', 1e-05), ('', 1e-05), ('', 1e-05), ('', 1e-05), ('', 1e-05), ('', 1e-05), ('', 1e-05), ('', 1e-05), ('', 1e-05), ('', 1e-05), ('', 1e-05), ('', 1e-05), ('', 1e-05), ('', 1e-05), ('', 1e-05), ('', 1e-05), ('', 1e-05), ('', 1e-05), ('', 1e-05), ('', 1e-05), ('', 1e-05), ('', 1e-05), ('', 1e-05), ('', 1e-05), ('', 1e-05), ('', 1e-05), ('', 1e-05), ('', 1e-05), ('', 1e-05), ('', 1e-05), ('', 1e-05), ('', 1e-05), ('', 1e-05), ('', 1e-05), ('', 1e-05), ('', 1e-05), ('', 1e-05)]\n",
            "11 번째 토픽 : [('유럽', 0.3398058099389088), ('독일', 0.09454494972082678), ('나라', 0.08237765527809941), ('차별', 0.08170737918368264), ('인종', 0.07913039600496528), ('다문화', 0.07492556371594822), ('세금', 0.07249996666436025), ('난민', 0.07151771564003284), ('중동', 0.06958149751652773), ('폐기', 0.06644349066361287), ('가능', 0.0643732470843345), ('단체', 0.05876000313334294), ('공항', 0.058196562854283374), ('생각', 0.055684723293194766), ('문제', 0.054883617621746386), ('국가', 0.054750249937540824), ('반대', 0.053263964462104824), ('난민법', 0.05144531489886731), ('복지', 0.047654352518871484), ('이슬람', 0.04638766501101848), ('천국', 0.04558041029412834), ('이야기', 0.04558041029412834), ('선진국', 0.04483827956033913), ('지원', 0.0422024077702386), ('인권', 0.04008631463684158), ('자국민', 0.03809020961878456), ('예멘', 0.036806071935325306), ('신청자', 0.03144123610226622), ('정책', 0.03128159028403626), ('통과', 0.02882002944744583), ('사회', 0.026724209757894385), ('사람', 0.02552228011265953), ('아시아', 0.025050708024896274), ('발생', 0.023636237430206694), ('추진', 0.02319383250550924), ('자격', 0.02319383250550924), ('영종도', 0.02319383250550924), ('트윗', 0.02319383250550924), ('위협', 0.02279020514706417), ('촉구', 0.02279020514706417), ('경제', 0.022419139780169565), ('처리', 0.022419139780169565), ('악용', 0.022419139780169565), ('새끼', 0.0214577490281115), ('시위', 0.0214577490281115), ('브로커', 0.020913276071557508), ('심사', 0.02066358022972504), ('테러', 0.02066358022972504), ('신청', 0.020576849518636513), ('정치', 0.020201804367527793), ('하나', 0.020201804367527793), ('시간', 0.020201804367527793), ('문화', 0.019987370247444226), ('반기문', 0.01978259900124132), ('호주', 0.019218521628575857), ('범죄', 0.0188781005521616), ('외국인', 0.018830776334625463), ('센터', 0.018411283433948662), ('이유', 0.018411283433948662), ('대한민국', 0.01839232778111936), ('노동자', 0.018170717414126944), ('상황', 0.01798841880186379), ('입국', 0.01702434307140536), ('유엔', 0.016710672710133604), ('이민자', 0.016710672710133604), ('현실', 0.01564079514201813), ('황우여', 0.015190390484655248), ('인정', 0.014847854660957508), ('제정', 0.014718125471593953), ('발의', 0.014718125471593953), ('우리', 0.014410014723722915), ('최초', 0.012640512023196597), ('한국', 0.012256134444445137), ('국민', 0.011027157340357993), ('시행', 0.006753312871150942), ('이민', 0.006594753699114017), ('세계', 0.005076606979267719), ('', 1e-05), ('', 1e-05), ('', 1e-05), ('', 1e-05), ('', 1e-05), ('', 1e-05), ('', 1e-05), ('', 1e-05), ('', 1e-05), ('', 1e-05), ('', 1e-05), ('', 1e-05), ('', 1e-05), ('', 1e-05), ('', 1e-05), ('', 1e-05), ('', 1e-05), ('', 1e-05), ('', 1e-05), ('', 1e-05), ('', 1e-05), ('', 1e-05), ('', 1e-05)]\n",
            "12 번째 토픽 : [('아프리카', 0.3979834889190319), ('흑인', 0.258150006567615), ('법무부', 0.12646919662744013), ('작년', 0.1256577254728855), ('내년', 0.10509759030225013), ('시행', 0.10061581328284379), ('나라', 0.09563554193226009), ('트윗', 0.09424329410466414), ('증가', 0.09260323863553924), ('난민', 0.0766853986794234), ('투표', 0.06402727607676244), ('장관', 0.06282886273644275), ('청원', 0.06173549242369282), ('제정', 0.059804028814957715), ('국가', 0.05932432145131006), ('유입', 0.05533347830793697), ('한국인', 0.05414300294877297), ('문화', 0.05414300294877297), ('내용', 0.05206029909512954), ('아시아', 0.050894159974631044), ('난민법', 0.047675171901615215), ('폐지', 0.04703096812023618), ('국민', 0.04480655071208755), ('합법', 0.042368736207492146), ('우리', 0.039034723428819036), ('한국', 0.03735018186709072), ('영종도', 0.03141443136822138), ('계획', 0.03141443136822138), ('새끼', 0.02906302716465735), ('혐오', 0.02906302716465735), ('이것', 0.028683334063068333), ('이번', 0.028683334063068333), ('미래', 0.028445579295103024), ('변호사', 0.027666739153968486), ('센터', 0.02493680161306971), ('문제', 0.024778679685767357), ('우리나라', 0.024010220090999013), ('입국', 0.023058287451143973), ('지원', 0.019053407727491686), ('인권', 0.01809804078540949), ('최초', 0.017120693499772608), ('다문화', 0.014497351388076781), ('대한민국', 0.008303709167003256), ('', 1e-05), ('', 1e-05), ('', 1e-05), ('', 1e-05), ('', 1e-05), ('', 1e-05), ('', 1e-05), ('', 1e-05), ('', 1e-05), ('', 1e-05), ('', 1e-05), ('', 1e-05), ('', 1e-05), ('', 1e-05), ('', 1e-05), ('', 1e-05), ('', 1e-05), ('', 1e-05), ('', 1e-05), ('', 1e-05), ('', 1e-05), ('', 1e-05), ('', 1e-05), ('', 1e-05), ('', 1e-05), ('', 1e-05), ('', 1e-05), ('', 1e-05), ('', 1e-05), ('', 1e-05), ('', 1e-05), ('', 1e-05), ('', 1e-05), ('', 1e-05), ('', 1e-05), ('', 1e-05), ('', 1e-05), ('', 1e-05), ('', 1e-05), ('', 1e-05), ('', 1e-05), ('', 1e-05), ('', 1e-05), ('', 1e-05), ('', 1e-05), ('', 1e-05), ('', 1e-05), ('', 1e-05), ('', 1e-05), ('', 1e-05), ('', 1e-05), ('', 1e-05), ('', 1e-05), ('', 1e-05), ('', 1e-05), ('', 1e-05), ('', 1e-05)]\n",
            "13 번째 토픽 : [('폐기', 0.2798997441341172), ('다문화', 0.1803607495524513), ('정책', 0.1054214223745474), ('유입', 0.10326011306284301), ('지원', 0.09481695813995863), ('센터', 0.093071212319646), ('국가', 0.09225632666640737), ('영종도', 0.0781650418295902), ('황우여', 0.07678921804054072), ('국민', 0.07432477703422397), ('테러', 0.06963789242773478), ('대표', 0.06884007537522868), ('북한', 0.06108264907942163), ('난민법', 0.05931241858626145), ('폐지', 0.05851096821257729), ('대한민국', 0.051652994030965134), ('망국', 0.050038439329841054), ('통과', 0.04856288426577487), ('반대', 0.04487593856256076), ('난민', 0.040170055503850464), ('중동', 0.0390825209147951), ('취득', 0.0390825209147951), ('쓰레기', 0.0390825209147951), ('자국', 0.03840239292497427), ('역차별', 0.03840239292497427), ('경제', 0.037777133172884156), ('법사위', 0.037777133172884156), ('국적', 0.03719860045155732), ('총장', 0.0361571519056367), ('고용', 0.03568477781074643), ('매국노', 0.03523969353790005), ('새누리당', 0.03481894621386739), ('안전', 0.03404083570591297), ('반기문', 0.03333445815957199), ('허가', 0.03300430622187766), ('탈북자', 0.03268783320424316), ('호주', 0.032383965578860106), ('유럽', 0.0318103426626975), ('외국인', 0.03173059949299094), ('자랑', 0.029455098844648257), ('생명', 0.02868668832504526), ('유엔', 0.028158141417075525), ('개정안', 0.02648986033812981), ('현실', 0.02635535559363685), ('전면', 0.02622327174164769), ('법무부', 0.02622327174164769), ('불법', 0.025360002178479123), ('인정', 0.025019219664920527), ('발의', 0.024800620873394536), ('최초', 0.021299760417039938), ('아시아', 0.02110571463514883), ('나라', 0.01982994176548175), ('서민', 0.016764834877113846), ('설립', 0.01571022007451128), ('사람', 0.014335348934669655), ('이민', 0.011112419618979526), ('한국', 0.005163017265967046), ('', 1e-05), ('', 1e-05), ('', 1e-05), ('', 1e-05), ('', 1e-05), ('', 1e-05), ('', 1e-05), ('', 1e-05), ('', 1e-05), ('', 1e-05), ('', 1e-05), ('', 1e-05), ('', 1e-05), ('', 1e-05), ('', 1e-05), ('', 1e-05), ('', 1e-05), ('', 1e-05), ('', 1e-05), ('', 1e-05), ('', 1e-05), ('', 1e-05), ('', 1e-05), ('', 1e-05), ('', 1e-05), ('', 1e-05), ('', 1e-05), ('', 1e-05), ('', 1e-05), ('', 1e-05), ('', 1e-05), ('', 1e-05), ('', 1e-05), ('', 1e-05), ('', 1e-05), ('', 1e-05), ('', 1e-05), ('', 1e-05), ('', 1e-05), ('', 1e-05), ('', 1e-05), ('', 1e-05), ('', 1e-05)]\n",
            "14 번째 토픽 : False\n",
            "15 번째 토픽 : False\n",
            "16 번째 토픽 : False\n",
            "17 번째 토픽 : False\n",
            "18 번째 토픽 : False\n",
            "19 번째 토픽 : False\n",
            "20 번째 토픽 : False\n",
            "21 번째 토픽 : False\n",
            "22 번째 토픽 : False\n",
            "23 번째 토픽 : False\n",
            "24 번째 토픽 : False\n",
            "25 번째 토픽 : False\n",
            "26 번째 토픽 : False\n",
            "27 번째 토픽 : False\n",
            "28 번째 토픽 : False\n",
            "29 번째 토픽 : False\n",
            "30 번째 토픽 : False\n",
            "31 번째 토픽 : False\n",
            "32 번째 토픽 : False\n",
            "33 번째 토픽 : False\n",
            "34 번째 토픽 : False\n",
            "35 번째 토픽 : False\n",
            "36 번째 토픽 : False\n",
            "37 번째 토픽 : False\n",
            "38 번째 토픽 : False\n",
            "39 번째 토픽 : False\n",
            "40 번째 토픽 : False\n",
            "41 번째 토픽 : False\n",
            "42 번째 토픽 : False\n",
            "43 번째 토픽 : False\n",
            "44 번째 토픽 : False\n",
            "45 번째 토픽 : False\n",
            "46 번째 토픽 : False\n",
            "47 번째 토픽 : False\n",
            "48 번째 토픽 : False\n",
            "49 번째 토픽 : False\n"
          ]
        }
      ]
    },
    {
      "cell_type": "code",
      "source": [
        "model.visualize_barchart()"
      ],
      "metadata": {
        "id": "4VCHLdJsmDXg",
        "colab": {
          "base_uri": "https://localhost:8080/",
          "height": 517
        },
        "outputId": "a923f877-7582-4e11-bfe6-7722100fa6c2"
      },
      "execution_count": null,
      "outputs": [
        {
          "output_type": "display_data",
          "data": {
            "text/html": [
              "<html>\n",
              "<head><meta charset=\"utf-8\" /></head>\n",
              "<body>\n",
              "    <div>            <script src=\"https://cdnjs.cloudflare.com/ajax/libs/mathjax/2.7.5/MathJax.js?config=TeX-AMS-MML_SVG\"></script><script type=\"text/javascript\">if (window.MathJax && window.MathJax.Hub && window.MathJax.Hub.Config) {window.MathJax.Hub.Config({SVG: {font: \"STIX-Web\"}});}</script>                <script type=\"text/javascript\">window.PlotlyConfig = {MathJaxConfig: 'local'};</script>\n",
              "        <script charset=\"utf-8\" src=\"https://cdn.plot.ly/plotly-2.24.1.min.js\"></script>                <div id=\"9f2c445e-1e44-45fb-a892-2542e4bae9b5\" class=\"plotly-graph-div\" style=\"height:500px; width:1000px;\"></div>            <script type=\"text/javascript\">                                    window.PLOTLYENV=window.PLOTLYENV || {};                                    if (document.getElementById(\"9f2c445e-1e44-45fb-a892-2542e4bae9b5\")) {                    Plotly.newPlot(                        \"9f2c445e-1e44-45fb-a892-2542e4bae9b5\",                        [{\"marker\":{\"color\":\"#D55E00\"},\"orientation\":\"h\",\"x\":[0.0603583818079787,0.06046643308035605,0.08463378494728359,0.09552679099525403,0.09664653587881507],\"y\":[\"\\uac01\\uad6d  \",\"\\uac1c\\ub3c4\\uad6d  \",\"\\uc774\\ubbfc  \",\"\\uc138\\uacc4  \",\"\\ud55c\\uad6d  \"],\"type\":\"bar\",\"xaxis\":\"x\",\"yaxis\":\"y\"},{\"marker\":{\"color\":\"#0072B2\"},\"orientation\":\"h\",\"x\":[0.06869123723303457,0.06881484226842072,0.08906647035816476,0.09329084124358794,0.09584494630628018],\"y\":[\"\\uce68\\uc2dd  \",\"\\uc77c\\uc790\\ub9ac  \",\"\\ub300\\ud55c\\ubbfc\\uad6d  \",\"\\uc678\\uad6d\\uc778  \",\"\\ubbf8\\ub798  \"],\"type\":\"bar\",\"xaxis\":\"x2\",\"yaxis\":\"y2\"},{\"marker\":{\"color\":\"#CC79A7\"},\"orientation\":\"h\",\"x\":[0.048368793688761555,0.0488157009028194,0.050727269375730404,0.05405665747273122,0.0629321983858713],\"y\":[\"\\ucd5c\\ucd08  \",\"\\uc544\\uc2dc\\uc544  \",\"\\uc804\\uba74  \",\"\\ub09c\\ubbfc  \",\"\\ub09c\\ubbfc\\ubc95  \"],\"type\":\"bar\",\"xaxis\":\"x3\",\"yaxis\":\"y3\"},{\"marker\":{\"color\":\"#E69F00\"},\"orientation\":\"h\",\"x\":[0.06216081917562868,0.06356684756579306,0.08920275584749585,0.09738509182201932,0.10229542215513934],\"y\":[\"\\uacf5\\uccad\\ud68c  \",\"\\uac1c\\uc815  \",\"\\ub09c\\ubbfc\\ubc95  \",\"\\uac1c\\uc815\\uc548  \",\"\\uad6d\\ud68c  \"],\"type\":\"bar\",\"xaxis\":\"x4\",\"yaxis\":\"y4\"},{\"marker\":{\"color\":\"#56B4E9\"},\"orientation\":\"h\",\"x\":[0.068666547910682,0.07317169763408812,0.12691319440052512,0.24752091918480304,0.4451093023726564],\"y\":[\"\\uc544\\ud504\\ub9ac\\uce74  \",\"\\uc0ac\\ub9dd  \",\"\\ub09c\\ubbfc  \",\"\\uc2dc\\ub9ac\\uc544  \",\"\\uc608\\uba58  \"],\"type\":\"bar\",\"xaxis\":\"x5\",\"yaxis\":\"y5\"},{\"marker\":{\"color\":\"#009E73\"},\"orientation\":\"h\",\"x\":[0.11803340279915561,0.4581163038632263,0.6354881794889815,0.6570292537065542,0.6581692626944584],\"y\":[\"\\ub09c\\ubbfc\\ubc95  \",\"\\ub2e4\\ubb38\\ud654  \",\"\\ub9dd\\uad6d  \",\"\\ub2f4\\ub860  \",\"\\uc2e4\\uccb4  \"],\"type\":\"bar\",\"xaxis\":\"x6\",\"yaxis\":\"y6\"},{\"marker\":{\"color\":\"#F0E442\"},\"orientation\":\"h\",\"x\":[0.19248579943361668,0.19465519111256283,0.1947866961435406,0.20237767147827887,0.25527686367526015],\"y\":[\"\\uc2a4\\uc6e8\\ub374  \",\"\\uc9d0\\uc2b9  \",\"\\uc774\\ubbfc\\uc790  \",\"\\ucc2c\\uc0ac  \",\"\\uad6d\\uac00  \"],\"type\":\"bar\",\"xaxis\":\"x7\",\"yaxis\":\"y7\"},{\"marker\":{\"color\":\"#D55E00\"},\"orientation\":\"h\",\"x\":[0.09269819199290806,0.10668331504816891,0.11492210721313703,0.12835713359233009,0.1682496646358386],\"y\":[\"\\ub09c\\ubbfc  \",\"\\uc2e0\\uccad  \",\"\\ucd94\\ubc29  \",\"\\ubc95\\uc6d0  \",\"\\ud310\\uacb0  \"],\"type\":\"bar\",\"xaxis\":\"x8\",\"yaxis\":\"y8\"}],                        {\"template\":{\"data\":{\"barpolar\":[{\"marker\":{\"line\":{\"color\":\"white\",\"width\":0.5},\"pattern\":{\"fillmode\":\"overlay\",\"size\":10,\"solidity\":0.2}},\"type\":\"barpolar\"}],\"bar\":[{\"error_x\":{\"color\":\"#2a3f5f\"},\"error_y\":{\"color\":\"#2a3f5f\"},\"marker\":{\"line\":{\"color\":\"white\",\"width\":0.5},\"pattern\":{\"fillmode\":\"overlay\",\"size\":10,\"solidity\":0.2}},\"type\":\"bar\"}],\"carpet\":[{\"aaxis\":{\"endlinecolor\":\"#2a3f5f\",\"gridcolor\":\"#C8D4E3\",\"linecolor\":\"#C8D4E3\",\"minorgridcolor\":\"#C8D4E3\",\"startlinecolor\":\"#2a3f5f\"},\"baxis\":{\"endlinecolor\":\"#2a3f5f\",\"gridcolor\":\"#C8D4E3\",\"linecolor\":\"#C8D4E3\",\"minorgridcolor\":\"#C8D4E3\",\"startlinecolor\":\"#2a3f5f\"},\"type\":\"carpet\"}],\"choropleth\":[{\"colorbar\":{\"outlinewidth\":0,\"ticks\":\"\"},\"type\":\"choropleth\"}],\"contourcarpet\":[{\"colorbar\":{\"outlinewidth\":0,\"ticks\":\"\"},\"type\":\"contourcarpet\"}],\"contour\":[{\"colorbar\":{\"outlinewidth\":0,\"ticks\":\"\"},\"colorscale\":[[0.0,\"#0d0887\"],[0.1111111111111111,\"#46039f\"],[0.2222222222222222,\"#7201a8\"],[0.3333333333333333,\"#9c179e\"],[0.4444444444444444,\"#bd3786\"],[0.5555555555555556,\"#d8576b\"],[0.6666666666666666,\"#ed7953\"],[0.7777777777777778,\"#fb9f3a\"],[0.8888888888888888,\"#fdca26\"],[1.0,\"#f0f921\"]],\"type\":\"contour\"}],\"heatmapgl\":[{\"colorbar\":{\"outlinewidth\":0,\"ticks\":\"\"},\"colorscale\":[[0.0,\"#0d0887\"],[0.1111111111111111,\"#46039f\"],[0.2222222222222222,\"#7201a8\"],[0.3333333333333333,\"#9c179e\"],[0.4444444444444444,\"#bd3786\"],[0.5555555555555556,\"#d8576b\"],[0.6666666666666666,\"#ed7953\"],[0.7777777777777778,\"#fb9f3a\"],[0.8888888888888888,\"#fdca26\"],[1.0,\"#f0f921\"]],\"type\":\"heatmapgl\"}],\"heatmap\":[{\"colorbar\":{\"outlinewidth\":0,\"ticks\":\"\"},\"colorscale\":[[0.0,\"#0d0887\"],[0.1111111111111111,\"#46039f\"],[0.2222222222222222,\"#7201a8\"],[0.3333333333333333,\"#9c179e\"],[0.4444444444444444,\"#bd3786\"],[0.5555555555555556,\"#d8576b\"],[0.6666666666666666,\"#ed7953\"],[0.7777777777777778,\"#fb9f3a\"],[0.8888888888888888,\"#fdca26\"],[1.0,\"#f0f921\"]],\"type\":\"heatmap\"}],\"histogram2dcontour\":[{\"colorbar\":{\"outlinewidth\":0,\"ticks\":\"\"},\"colorscale\":[[0.0,\"#0d0887\"],[0.1111111111111111,\"#46039f\"],[0.2222222222222222,\"#7201a8\"],[0.3333333333333333,\"#9c179e\"],[0.4444444444444444,\"#bd3786\"],[0.5555555555555556,\"#d8576b\"],[0.6666666666666666,\"#ed7953\"],[0.7777777777777778,\"#fb9f3a\"],[0.8888888888888888,\"#fdca26\"],[1.0,\"#f0f921\"]],\"type\":\"histogram2dcontour\"}],\"histogram2d\":[{\"colorbar\":{\"outlinewidth\":0,\"ticks\":\"\"},\"colorscale\":[[0.0,\"#0d0887\"],[0.1111111111111111,\"#46039f\"],[0.2222222222222222,\"#7201a8\"],[0.3333333333333333,\"#9c179e\"],[0.4444444444444444,\"#bd3786\"],[0.5555555555555556,\"#d8576b\"],[0.6666666666666666,\"#ed7953\"],[0.7777777777777778,\"#fb9f3a\"],[0.8888888888888888,\"#fdca26\"],[1.0,\"#f0f921\"]],\"type\":\"histogram2d\"}],\"histogram\":[{\"marker\":{\"pattern\":{\"fillmode\":\"overlay\",\"size\":10,\"solidity\":0.2}},\"type\":\"histogram\"}],\"mesh3d\":[{\"colorbar\":{\"outlinewidth\":0,\"ticks\":\"\"},\"type\":\"mesh3d\"}],\"parcoords\":[{\"line\":{\"colorbar\":{\"outlinewidth\":0,\"ticks\":\"\"}},\"type\":\"parcoords\"}],\"pie\":[{\"automargin\":true,\"type\":\"pie\"}],\"scatter3d\":[{\"line\":{\"colorbar\":{\"outlinewidth\":0,\"ticks\":\"\"}},\"marker\":{\"colorbar\":{\"outlinewidth\":0,\"ticks\":\"\"}},\"type\":\"scatter3d\"}],\"scattercarpet\":[{\"marker\":{\"colorbar\":{\"outlinewidth\":0,\"ticks\":\"\"}},\"type\":\"scattercarpet\"}],\"scattergeo\":[{\"marker\":{\"colorbar\":{\"outlinewidth\":0,\"ticks\":\"\"}},\"type\":\"scattergeo\"}],\"scattergl\":[{\"marker\":{\"colorbar\":{\"outlinewidth\":0,\"ticks\":\"\"}},\"type\":\"scattergl\"}],\"scattermapbox\":[{\"marker\":{\"colorbar\":{\"outlinewidth\":0,\"ticks\":\"\"}},\"type\":\"scattermapbox\"}],\"scatterpolargl\":[{\"marker\":{\"colorbar\":{\"outlinewidth\":0,\"ticks\":\"\"}},\"type\":\"scatterpolargl\"}],\"scatterpolar\":[{\"marker\":{\"colorbar\":{\"outlinewidth\":0,\"ticks\":\"\"}},\"type\":\"scatterpolar\"}],\"scatter\":[{\"fillpattern\":{\"fillmode\":\"overlay\",\"size\":10,\"solidity\":0.2},\"type\":\"scatter\"}],\"scatterternary\":[{\"marker\":{\"colorbar\":{\"outlinewidth\":0,\"ticks\":\"\"}},\"type\":\"scatterternary\"}],\"surface\":[{\"colorbar\":{\"outlinewidth\":0,\"ticks\":\"\"},\"colorscale\":[[0.0,\"#0d0887\"],[0.1111111111111111,\"#46039f\"],[0.2222222222222222,\"#7201a8\"],[0.3333333333333333,\"#9c179e\"],[0.4444444444444444,\"#bd3786\"],[0.5555555555555556,\"#d8576b\"],[0.6666666666666666,\"#ed7953\"],[0.7777777777777778,\"#fb9f3a\"],[0.8888888888888888,\"#fdca26\"],[1.0,\"#f0f921\"]],\"type\":\"surface\"}],\"table\":[{\"cells\":{\"fill\":{\"color\":\"#EBF0F8\"},\"line\":{\"color\":\"white\"}},\"header\":{\"fill\":{\"color\":\"#C8D4E3\"},\"line\":{\"color\":\"white\"}},\"type\":\"table\"}]},\"layout\":{\"annotationdefaults\":{\"arrowcolor\":\"#2a3f5f\",\"arrowhead\":0,\"arrowwidth\":1},\"autotypenumbers\":\"strict\",\"coloraxis\":{\"colorbar\":{\"outlinewidth\":0,\"ticks\":\"\"}},\"colorscale\":{\"diverging\":[[0,\"#8e0152\"],[0.1,\"#c51b7d\"],[0.2,\"#de77ae\"],[0.3,\"#f1b6da\"],[0.4,\"#fde0ef\"],[0.5,\"#f7f7f7\"],[0.6,\"#e6f5d0\"],[0.7,\"#b8e186\"],[0.8,\"#7fbc41\"],[0.9,\"#4d9221\"],[1,\"#276419\"]],\"sequential\":[[0.0,\"#0d0887\"],[0.1111111111111111,\"#46039f\"],[0.2222222222222222,\"#7201a8\"],[0.3333333333333333,\"#9c179e\"],[0.4444444444444444,\"#bd3786\"],[0.5555555555555556,\"#d8576b\"],[0.6666666666666666,\"#ed7953\"],[0.7777777777777778,\"#fb9f3a\"],[0.8888888888888888,\"#fdca26\"],[1.0,\"#f0f921\"]],\"sequentialminus\":[[0.0,\"#0d0887\"],[0.1111111111111111,\"#46039f\"],[0.2222222222222222,\"#7201a8\"],[0.3333333333333333,\"#9c179e\"],[0.4444444444444444,\"#bd3786\"],[0.5555555555555556,\"#d8576b\"],[0.6666666666666666,\"#ed7953\"],[0.7777777777777778,\"#fb9f3a\"],[0.8888888888888888,\"#fdca26\"],[1.0,\"#f0f921\"]]},\"colorway\":[\"#636efa\",\"#EF553B\",\"#00cc96\",\"#ab63fa\",\"#FFA15A\",\"#19d3f3\",\"#FF6692\",\"#B6E880\",\"#FF97FF\",\"#FECB52\"],\"font\":{\"color\":\"#2a3f5f\"},\"geo\":{\"bgcolor\":\"white\",\"lakecolor\":\"white\",\"landcolor\":\"white\",\"showlakes\":true,\"showland\":true,\"subunitcolor\":\"#C8D4E3\"},\"hoverlabel\":{\"align\":\"left\"},\"hovermode\":\"closest\",\"mapbox\":{\"style\":\"light\"},\"paper_bgcolor\":\"white\",\"plot_bgcolor\":\"white\",\"polar\":{\"angularaxis\":{\"gridcolor\":\"#EBF0F8\",\"linecolor\":\"#EBF0F8\",\"ticks\":\"\"},\"bgcolor\":\"white\",\"radialaxis\":{\"gridcolor\":\"#EBF0F8\",\"linecolor\":\"#EBF0F8\",\"ticks\":\"\"}},\"scene\":{\"xaxis\":{\"backgroundcolor\":\"white\",\"gridcolor\":\"#DFE8F3\",\"gridwidth\":2,\"linecolor\":\"#EBF0F8\",\"showbackground\":true,\"ticks\":\"\",\"zerolinecolor\":\"#EBF0F8\"},\"yaxis\":{\"backgroundcolor\":\"white\",\"gridcolor\":\"#DFE8F3\",\"gridwidth\":2,\"linecolor\":\"#EBF0F8\",\"showbackground\":true,\"ticks\":\"\",\"zerolinecolor\":\"#EBF0F8\"},\"zaxis\":{\"backgroundcolor\":\"white\",\"gridcolor\":\"#DFE8F3\",\"gridwidth\":2,\"linecolor\":\"#EBF0F8\",\"showbackground\":true,\"ticks\":\"\",\"zerolinecolor\":\"#EBF0F8\"}},\"shapedefaults\":{\"line\":{\"color\":\"#2a3f5f\"}},\"ternary\":{\"aaxis\":{\"gridcolor\":\"#DFE8F3\",\"linecolor\":\"#A2B1C6\",\"ticks\":\"\"},\"baxis\":{\"gridcolor\":\"#DFE8F3\",\"linecolor\":\"#A2B1C6\",\"ticks\":\"\"},\"bgcolor\":\"white\",\"caxis\":{\"gridcolor\":\"#DFE8F3\",\"linecolor\":\"#A2B1C6\",\"ticks\":\"\"}},\"title\":{\"x\":0.05},\"xaxis\":{\"automargin\":true,\"gridcolor\":\"#EBF0F8\",\"linecolor\":\"#EBF0F8\",\"ticks\":\"\",\"title\":{\"standoff\":15},\"zerolinecolor\":\"#EBF0F8\",\"zerolinewidth\":2},\"yaxis\":{\"automargin\":true,\"gridcolor\":\"#EBF0F8\",\"linecolor\":\"#EBF0F8\",\"ticks\":\"\",\"title\":{\"standoff\":15},\"zerolinecolor\":\"#EBF0F8\",\"zerolinewidth\":2}}},\"xaxis\":{\"anchor\":\"y\",\"domain\":[0.0,0.175],\"showgrid\":true},\"yaxis\":{\"anchor\":\"x\",\"domain\":[0.6000000000000001,1.0],\"showgrid\":true},\"xaxis2\":{\"anchor\":\"y2\",\"domain\":[0.275,0.45],\"showgrid\":true},\"yaxis2\":{\"anchor\":\"x2\",\"domain\":[0.6000000000000001,1.0],\"showgrid\":true},\"xaxis3\":{\"anchor\":\"y3\",\"domain\":[0.55,0.7250000000000001],\"showgrid\":true},\"yaxis3\":{\"anchor\":\"x3\",\"domain\":[0.6000000000000001,1.0],\"showgrid\":true},\"xaxis4\":{\"anchor\":\"y4\",\"domain\":[0.825,1.0],\"showgrid\":true},\"yaxis4\":{\"anchor\":\"x4\",\"domain\":[0.6000000000000001,1.0],\"showgrid\":true},\"xaxis5\":{\"anchor\":\"y5\",\"domain\":[0.0,0.175],\"showgrid\":true},\"yaxis5\":{\"anchor\":\"x5\",\"domain\":[0.0,0.4],\"showgrid\":true},\"xaxis6\":{\"anchor\":\"y6\",\"domain\":[0.275,0.45],\"showgrid\":true},\"yaxis6\":{\"anchor\":\"x6\",\"domain\":[0.0,0.4],\"showgrid\":true},\"xaxis7\":{\"anchor\":\"y7\",\"domain\":[0.55,0.7250000000000001],\"showgrid\":true},\"yaxis7\":{\"anchor\":\"x7\",\"domain\":[0.0,0.4],\"showgrid\":true},\"xaxis8\":{\"anchor\":\"y8\",\"domain\":[0.825,1.0],\"showgrid\":true},\"yaxis8\":{\"anchor\":\"x8\",\"domain\":[0.0,0.4],\"showgrid\":true},\"annotations\":[{\"font\":{\"size\":16},\"showarrow\":false,\"text\":\"Topic 0\",\"x\":0.0875,\"xanchor\":\"center\",\"xref\":\"paper\",\"y\":1.0,\"yanchor\":\"bottom\",\"yref\":\"paper\"},{\"font\":{\"size\":16},\"showarrow\":false,\"text\":\"Topic 1\",\"x\":0.36250000000000004,\"xanchor\":\"center\",\"xref\":\"paper\",\"y\":1.0,\"yanchor\":\"bottom\",\"yref\":\"paper\"},{\"font\":{\"size\":16},\"showarrow\":false,\"text\":\"Topic 2\",\"x\":0.6375000000000001,\"xanchor\":\"center\",\"xref\":\"paper\",\"y\":1.0,\"yanchor\":\"bottom\",\"yref\":\"paper\"},{\"font\":{\"size\":16},\"showarrow\":false,\"text\":\"Topic 3\",\"x\":0.9125,\"xanchor\":\"center\",\"xref\":\"paper\",\"y\":1.0,\"yanchor\":\"bottom\",\"yref\":\"paper\"},{\"font\":{\"size\":16},\"showarrow\":false,\"text\":\"Topic 4\",\"x\":0.0875,\"xanchor\":\"center\",\"xref\":\"paper\",\"y\":0.4,\"yanchor\":\"bottom\",\"yref\":\"paper\"},{\"font\":{\"size\":16},\"showarrow\":false,\"text\":\"Topic 5\",\"x\":0.36250000000000004,\"xanchor\":\"center\",\"xref\":\"paper\",\"y\":0.4,\"yanchor\":\"bottom\",\"yref\":\"paper\"},{\"font\":{\"size\":16},\"showarrow\":false,\"text\":\"Topic 6\",\"x\":0.6375000000000001,\"xanchor\":\"center\",\"xref\":\"paper\",\"y\":0.4,\"yanchor\":\"bottom\",\"yref\":\"paper\"},{\"font\":{\"size\":16},\"showarrow\":false,\"text\":\"Topic 7\",\"x\":0.9125,\"xanchor\":\"center\",\"xref\":\"paper\",\"y\":0.4,\"yanchor\":\"bottom\",\"yref\":\"paper\"}],\"title\":{\"font\":{\"size\":22,\"color\":\"Black\"},\"text\":\"Topic Word Scores\",\"x\":0.5,\"xanchor\":\"center\",\"yanchor\":\"top\"},\"hoverlabel\":{\"font\":{\"size\":16,\"family\":\"Rockwell\"},\"bgcolor\":\"white\"},\"showlegend\":false,\"width\":1000,\"height\":500},                        {\"responsive\": true}                    ).then(function(){\n",
              "                            \n",
              "var gd = document.getElementById('9f2c445e-1e44-45fb-a892-2542e4bae9b5');\n",
              "var x = new MutationObserver(function (mutations, observer) {{\n",
              "        var display = window.getComputedStyle(gd).display;\n",
              "        if (!display || display === 'none') {{\n",
              "            console.log([gd, 'removed!']);\n",
              "            Plotly.purge(gd);\n",
              "            observer.disconnect();\n",
              "        }}\n",
              "}});\n",
              "\n",
              "// Listen for the removal of the full notebook cells\n",
              "var notebookContainer = gd.closest('#notebook-container');\n",
              "if (notebookContainer) {{\n",
              "    x.observe(notebookContainer, {childList: true});\n",
              "}}\n",
              "\n",
              "// Listen for the clearing of the current output cell\n",
              "var outputEl = gd.closest('.output');\n",
              "if (outputEl) {{\n",
              "    x.observe(outputEl, {childList: true});\n",
              "}}\n",
              "\n",
              "                        })                };                            </script>        </div>\n",
              "</body>\n",
              "</html>"
            ]
          },
          "metadata": {}
        }
      ]
    },
    {
      "cell_type": "code",
      "source": [
        "model.get_topic_info()"
      ],
      "metadata": {
        "id": "qHVPgzEImEoQ",
        "colab": {
          "base_uri": "https://localhost:8080/",
          "height": 520
        },
        "outputId": "ecbd349f-be97-449d-de41-00ea00525d17"
      },
      "execution_count": null,
      "outputs": [
        {
          "output_type": "execute_result",
          "data": {
            "text/plain": [
              "    Topic  Count               Name  \\\n",
              "0      -1    340    -1_난민법_국민_난민_나라   \n",
              "1       0    497     0_한국_세계_이민_개도국   \n",
              "2       1    441  1_미래_외국인_대한민국_일자리   \n",
              "3       2    387    2_난민법_난민_전면_아시아   \n",
              "4       3    102    3_국회_개정안_난민법_개정   \n",
              "5       4     67     4_예멘_시리아_난민_사망   \n",
              "6       5     55     5_실체_담론_망국_다문화   \n",
              "7       6     40     6_국가_찬사_이민자_짐승   \n",
              "8       7     36      7_판결_법원_추방_신청   \n",
              "9       8     29    8_난민법_공청회_어필_센터   \n",
              "10      9     28     9_난민법_제주_난리_난민   \n",
              "11     10     23    10_비용_초래_부작용_사회   \n",
              "12     11     17     11_유럽_독일_나라_차별   \n",
              "13     12     13  12_아프리카_흑인_법무부_작년   \n",
              "14     13     12    13_폐기_다문화_정책_유입   \n",
              "\n",
              "                                       Representation  \\\n",
              "0   [난민법, 국민, 난민, 나라, 시행, 반대, 다문화, 최초, 일본, 발의, 제주,...   \n",
              "1   [한국, 세계, 이민, 개도국, 각국, 정서, 구청, 완료, 확대, 설립, 위장, ...   \n",
              "2   [미래, 외국인, 대한민국, 일자리, 침식, 천만, 자살, 서민, 문제, 블루오션,...   \n",
              "3   [난민법, 난민, 전면, 아시아, 최초, 시행, 제주, 권리, 신청, 뉴스, 지원,...   \n",
              "4   [국회, 개정안, 난민법, 개정, 공청회, 발의, 의원, 통과, 부탁, 내용, 제정...   \n",
              "5   [예멘, 시리아, 난민, 사망, 아프리카, 제주, 입국, 기구, 여성, 밀입국, 수...   \n",
              "6   [실체, 담론, 망국, 다문화, 난민법, 문제, 난민, , , , , , , , ,...   \n",
              "7   [국가, 찬사, 이민자, 짐승, 스웨덴, 정치인, 중국인, 복지, 자국인, 현실, ...   \n",
              "8   [판결, 법원, 추방, 신청, 난민, 취득, 사용, 체류, 조달, 수단, 노동자, ...   \n",
              "9   [난민법, 공청회, 어필, 센터, 시행령, 시행, 제정, 투표, 생계비, 예산, 법...   \n",
              "10  [난민법, 제주, 난리, 난민, 상황, 우리나라, 폐지, 망국, 우리, 예멘, , ...   \n",
              "11  [비용, 초래, 부작용, 사회, 폐기, 부결, 청원, 다문화, 필요, 난민법, 우리...   \n",
              "12  [유럽, 독일, 나라, 차별, 인종, 다문화, 세금, 난민, 중동, 폐기, 가능, ...   \n",
              "13  [아프리카, 흑인, 법무부, 작년, 내년, 시행, 나라, 트윗, 증가, 난민, 투표...   \n",
              "14  [폐기, 다문화, 정책, 유입, 지원, 센터, 국가, 영종도, 황우여, 국민, 테러...   \n",
              "\n",
              "                                  Representative_Docs  \n",
              "0   [나라 없는 국민은 난민일 뿐 !! 국가안보를 위해 제주 해군기지 찬성한다!, 나라...  \n",
              "1   [\"개도국까지 확대되는 반이민 정서==>> 세계의 난민들 한국으로 한국으로 !! 그...  \n",
              "2   [내국인에게는 삶의 미래가 없는 대한민국 외국인에게는 삶의 미래가 블루오션인 대한민...  \n",
              "3   [\"난민법' 7월부터 전면 시행…\"\" 아시아 최초\"\" \", 난민법' 7월부터 전면 ...  \n",
              "4   [[행동하는 다문화 반대] 난민법 개정안 폐기를 위해 법사위 입법조사관과 통화 내용...  \n",
              "5   [\"\"\" 나를 땅에 묻지 말아주세요\"\"  6살 난 예멘 소년이 온몸에 미사일 파편이...  \n",
              "6   [다문화 담론 3) 망국의 법= 난민법의 실체, 다문화 담론 3) 망국의 법= 난민...  \n",
              "7   [한국 짐승 정치인들이 찬사하는 사회복지 난민법이 민 국가스웨덴의 처참한 현실 세계...  \n",
              "8   [난민법에 의하면 난민 신청만 하면 추방할 수 없음을 법원이 인정 이 젠 난민이 새...  \n",
              "9   [공익법센터 어필(Adv ocates forPublicInterestLaw) : :...  \n",
              "10        [난민법 아시는 분 설명 좀! ㅠ ㅠ, 난민법흥하네, 난민법 위반 아닌가요?]  \n",
              "11  [막대한 사회적 비용 및 부작용을 초래할 난민법을 막아주세요, 막대한 사회적 비용 ...  \n",
              "12  [세계 난민의 날. . 유럽이민 허용찬·반시위로 분열 <펌글> 아시아 최초 난민법 ...  \n",
              "13  [\"\"\" : 법무부 트윗님께 질문합니다.  내년에 난민법이 시행되면 한국에 아프리카...  \n",
              "14  [유튜브2011년 영불독 지도자들이 일제히 다문화관용 정책을 폐기한다고 선언한 건 ...  "
            ],
            "text/html": [
              "\n",
              "  <div id=\"df-3bc9dbf5-126a-49f9-802f-889fe5e21fbe\" class=\"colab-df-container\">\n",
              "    <div>\n",
              "<style scoped>\n",
              "    .dataframe tbody tr th:only-of-type {\n",
              "        vertical-align: middle;\n",
              "    }\n",
              "\n",
              "    .dataframe tbody tr th {\n",
              "        vertical-align: top;\n",
              "    }\n",
              "\n",
              "    .dataframe thead th {\n",
              "        text-align: right;\n",
              "    }\n",
              "</style>\n",
              "<table border=\"1\" class=\"dataframe\">\n",
              "  <thead>\n",
              "    <tr style=\"text-align: right;\">\n",
              "      <th></th>\n",
              "      <th>Topic</th>\n",
              "      <th>Count</th>\n",
              "      <th>Name</th>\n",
              "      <th>Representation</th>\n",
              "      <th>Representative_Docs</th>\n",
              "    </tr>\n",
              "  </thead>\n",
              "  <tbody>\n",
              "    <tr>\n",
              "      <th>0</th>\n",
              "      <td>-1</td>\n",
              "      <td>340</td>\n",
              "      <td>-1_난민법_국민_난민_나라</td>\n",
              "      <td>[난민법, 국민, 난민, 나라, 시행, 반대, 다문화, 최초, 일본, 발의, 제주,...</td>\n",
              "      <td>[나라 없는 국민은 난민일 뿐 !! 국가안보를 위해 제주 해군기지 찬성한다!, 나라...</td>\n",
              "    </tr>\n",
              "    <tr>\n",
              "      <th>1</th>\n",
              "      <td>0</td>\n",
              "      <td>497</td>\n",
              "      <td>0_한국_세계_이민_개도국</td>\n",
              "      <td>[한국, 세계, 이민, 개도국, 각국, 정서, 구청, 완료, 확대, 설립, 위장, ...</td>\n",
              "      <td>[\"개도국까지 확대되는 반이민 정서==&gt;&gt; 세계의 난민들 한국으로 한국으로 !! 그...</td>\n",
              "    </tr>\n",
              "    <tr>\n",
              "      <th>2</th>\n",
              "      <td>1</td>\n",
              "      <td>441</td>\n",
              "      <td>1_미래_외국인_대한민국_일자리</td>\n",
              "      <td>[미래, 외국인, 대한민국, 일자리, 침식, 천만, 자살, 서민, 문제, 블루오션,...</td>\n",
              "      <td>[내국인에게는 삶의 미래가 없는 대한민국 외국인에게는 삶의 미래가 블루오션인 대한민...</td>\n",
              "    </tr>\n",
              "    <tr>\n",
              "      <th>3</th>\n",
              "      <td>2</td>\n",
              "      <td>387</td>\n",
              "      <td>2_난민법_난민_전면_아시아</td>\n",
              "      <td>[난민법, 난민, 전면, 아시아, 최초, 시행, 제주, 권리, 신청, 뉴스, 지원,...</td>\n",
              "      <td>[\"난민법' 7월부터 전면 시행…\"\" 아시아 최초\"\" \", 난민법' 7월부터 전면 ...</td>\n",
              "    </tr>\n",
              "    <tr>\n",
              "      <th>4</th>\n",
              "      <td>3</td>\n",
              "      <td>102</td>\n",
              "      <td>3_국회_개정안_난민법_개정</td>\n",
              "      <td>[국회, 개정안, 난민법, 개정, 공청회, 발의, 의원, 통과, 부탁, 내용, 제정...</td>\n",
              "      <td>[[행동하는 다문화 반대] 난민법 개정안 폐기를 위해 법사위 입법조사관과 통화 내용...</td>\n",
              "    </tr>\n",
              "    <tr>\n",
              "      <th>5</th>\n",
              "      <td>4</td>\n",
              "      <td>67</td>\n",
              "      <td>4_예멘_시리아_난민_사망</td>\n",
              "      <td>[예멘, 시리아, 난민, 사망, 아프리카, 제주, 입국, 기구, 여성, 밀입국, 수...</td>\n",
              "      <td>[\"\"\" 나를 땅에 묻지 말아주세요\"\"  6살 난 예멘 소년이 온몸에 미사일 파편이...</td>\n",
              "    </tr>\n",
              "    <tr>\n",
              "      <th>6</th>\n",
              "      <td>5</td>\n",
              "      <td>55</td>\n",
              "      <td>5_실체_담론_망국_다문화</td>\n",
              "      <td>[실체, 담론, 망국, 다문화, 난민법, 문제, 난민, , , , , , , , ,...</td>\n",
              "      <td>[다문화 담론 3) 망국의 법= 난민법의 실체, 다문화 담론 3) 망국의 법= 난민...</td>\n",
              "    </tr>\n",
              "    <tr>\n",
              "      <th>7</th>\n",
              "      <td>6</td>\n",
              "      <td>40</td>\n",
              "      <td>6_국가_찬사_이민자_짐승</td>\n",
              "      <td>[국가, 찬사, 이민자, 짐승, 스웨덴, 정치인, 중국인, 복지, 자국인, 현실, ...</td>\n",
              "      <td>[한국 짐승 정치인들이 찬사하는 사회복지 난민법이 민 국가스웨덴의 처참한 현실 세계...</td>\n",
              "    </tr>\n",
              "    <tr>\n",
              "      <th>8</th>\n",
              "      <td>7</td>\n",
              "      <td>36</td>\n",
              "      <td>7_판결_법원_추방_신청</td>\n",
              "      <td>[판결, 법원, 추방, 신청, 난민, 취득, 사용, 체류, 조달, 수단, 노동자, ...</td>\n",
              "      <td>[난민법에 의하면 난민 신청만 하면 추방할 수 없음을 법원이 인정 이 젠 난민이 새...</td>\n",
              "    </tr>\n",
              "    <tr>\n",
              "      <th>9</th>\n",
              "      <td>8</td>\n",
              "      <td>29</td>\n",
              "      <td>8_난민법_공청회_어필_센터</td>\n",
              "      <td>[난민법, 공청회, 어필, 센터, 시행령, 시행, 제정, 투표, 생계비, 예산, 법...</td>\n",
              "      <td>[공익법센터 어필(Adv ocates forPublicInterestLaw) : :...</td>\n",
              "    </tr>\n",
              "    <tr>\n",
              "      <th>10</th>\n",
              "      <td>9</td>\n",
              "      <td>28</td>\n",
              "      <td>9_난민법_제주_난리_난민</td>\n",
              "      <td>[난민법, 제주, 난리, 난민, 상황, 우리나라, 폐지, 망국, 우리, 예멘, , ...</td>\n",
              "      <td>[난민법 아시는 분 설명 좀! ㅠ ㅠ, 난민법흥하네, 난민법 위반 아닌가요?]</td>\n",
              "    </tr>\n",
              "    <tr>\n",
              "      <th>11</th>\n",
              "      <td>10</td>\n",
              "      <td>23</td>\n",
              "      <td>10_비용_초래_부작용_사회</td>\n",
              "      <td>[비용, 초래, 부작용, 사회, 폐기, 부결, 청원, 다문화, 필요, 난민법, 우리...</td>\n",
              "      <td>[막대한 사회적 비용 및 부작용을 초래할 난민법을 막아주세요, 막대한 사회적 비용 ...</td>\n",
              "    </tr>\n",
              "    <tr>\n",
              "      <th>12</th>\n",
              "      <td>11</td>\n",
              "      <td>17</td>\n",
              "      <td>11_유럽_독일_나라_차별</td>\n",
              "      <td>[유럽, 독일, 나라, 차별, 인종, 다문화, 세금, 난민, 중동, 폐기, 가능, ...</td>\n",
              "      <td>[세계 난민의 날. . 유럽이민 허용찬·반시위로 분열 &lt;펌글&gt; 아시아 최초 난민법 ...</td>\n",
              "    </tr>\n",
              "    <tr>\n",
              "      <th>13</th>\n",
              "      <td>12</td>\n",
              "      <td>13</td>\n",
              "      <td>12_아프리카_흑인_법무부_작년</td>\n",
              "      <td>[아프리카, 흑인, 법무부, 작년, 내년, 시행, 나라, 트윗, 증가, 난민, 투표...</td>\n",
              "      <td>[\"\"\" : 법무부 트윗님께 질문합니다.  내년에 난민법이 시행되면 한국에 아프리카...</td>\n",
              "    </tr>\n",
              "    <tr>\n",
              "      <th>14</th>\n",
              "      <td>13</td>\n",
              "      <td>12</td>\n",
              "      <td>13_폐기_다문화_정책_유입</td>\n",
              "      <td>[폐기, 다문화, 정책, 유입, 지원, 센터, 국가, 영종도, 황우여, 국민, 테러...</td>\n",
              "      <td>[유튜브2011년 영불독 지도자들이 일제히 다문화관용 정책을 폐기한다고 선언한 건 ...</td>\n",
              "    </tr>\n",
              "  </tbody>\n",
              "</table>\n",
              "</div>\n",
              "    <div class=\"colab-df-buttons\">\n",
              "\n",
              "  <div class=\"colab-df-container\">\n",
              "    <button class=\"colab-df-convert\" onclick=\"convertToInteractive('df-3bc9dbf5-126a-49f9-802f-889fe5e21fbe')\"\n",
              "            title=\"Convert this dataframe to an interactive table.\"\n",
              "            style=\"display:none;\">\n",
              "\n",
              "  <svg xmlns=\"http://www.w3.org/2000/svg\" height=\"24px\" viewBox=\"0 -960 960 960\">\n",
              "    <path d=\"M120-120v-720h720v720H120Zm60-500h600v-160H180v160Zm220 220h160v-160H400v160Zm0 220h160v-160H400v160ZM180-400h160v-160H180v160Zm440 0h160v-160H620v160ZM180-180h160v-160H180v160Zm440 0h160v-160H620v160Z\"/>\n",
              "  </svg>\n",
              "    </button>\n",
              "\n",
              "  <style>\n",
              "    .colab-df-container {\n",
              "      display:flex;\n",
              "      gap: 12px;\n",
              "    }\n",
              "\n",
              "    .colab-df-convert {\n",
              "      background-color: #E8F0FE;\n",
              "      border: none;\n",
              "      border-radius: 50%;\n",
              "      cursor: pointer;\n",
              "      display: none;\n",
              "      fill: #1967D2;\n",
              "      height: 32px;\n",
              "      padding: 0 0 0 0;\n",
              "      width: 32px;\n",
              "    }\n",
              "\n",
              "    .colab-df-convert:hover {\n",
              "      background-color: #E2EBFA;\n",
              "      box-shadow: 0px 1px 2px rgba(60, 64, 67, 0.3), 0px 1px 3px 1px rgba(60, 64, 67, 0.15);\n",
              "      fill: #174EA6;\n",
              "    }\n",
              "\n",
              "    .colab-df-buttons div {\n",
              "      margin-bottom: 4px;\n",
              "    }\n",
              "\n",
              "    [theme=dark] .colab-df-convert {\n",
              "      background-color: #3B4455;\n",
              "      fill: #D2E3FC;\n",
              "    }\n",
              "\n",
              "    [theme=dark] .colab-df-convert:hover {\n",
              "      background-color: #434B5C;\n",
              "      box-shadow: 0px 1px 3px 1px rgba(0, 0, 0, 0.15);\n",
              "      filter: drop-shadow(0px 1px 2px rgba(0, 0, 0, 0.3));\n",
              "      fill: #FFFFFF;\n",
              "    }\n",
              "  </style>\n",
              "\n",
              "    <script>\n",
              "      const buttonEl =\n",
              "        document.querySelector('#df-3bc9dbf5-126a-49f9-802f-889fe5e21fbe button.colab-df-convert');\n",
              "      buttonEl.style.display =\n",
              "        google.colab.kernel.accessAllowed ? 'block' : 'none';\n",
              "\n",
              "      async function convertToInteractive(key) {\n",
              "        const element = document.querySelector('#df-3bc9dbf5-126a-49f9-802f-889fe5e21fbe');\n",
              "        const dataTable =\n",
              "          await google.colab.kernel.invokeFunction('convertToInteractive',\n",
              "                                                    [key], {});\n",
              "        if (!dataTable) return;\n",
              "\n",
              "        const docLinkHtml = 'Like what you see? Visit the ' +\n",
              "          '<a target=\"_blank\" href=https://colab.research.google.com/notebooks/data_table.ipynb>data table notebook</a>'\n",
              "          + ' to learn more about interactive tables.';\n",
              "        element.innerHTML = '';\n",
              "        dataTable['output_type'] = 'display_data';\n",
              "        await google.colab.output.renderOutput(dataTable, element);\n",
              "        const docLink = document.createElement('div');\n",
              "        docLink.innerHTML = docLinkHtml;\n",
              "        element.appendChild(docLink);\n",
              "      }\n",
              "    </script>\n",
              "  </div>\n",
              "\n",
              "\n",
              "<div id=\"df-a28705ac-ad99-4c6c-8b89-b3ac20dd5829\">\n",
              "  <button class=\"colab-df-quickchart\" onclick=\"quickchart('df-a28705ac-ad99-4c6c-8b89-b3ac20dd5829')\"\n",
              "            title=\"Suggest charts.\"\n",
              "            style=\"display:none;\">\n",
              "\n",
              "<svg xmlns=\"http://www.w3.org/2000/svg\" height=\"24px\"viewBox=\"0 0 24 24\"\n",
              "     width=\"24px\">\n",
              "    <g>\n",
              "        <path d=\"M19 3H5c-1.1 0-2 .9-2 2v14c0 1.1.9 2 2 2h14c1.1 0 2-.9 2-2V5c0-1.1-.9-2-2-2zM9 17H7v-7h2v7zm4 0h-2V7h2v10zm4 0h-2v-4h2v4z\"/>\n",
              "    </g>\n",
              "</svg>\n",
              "  </button>\n",
              "\n",
              "<style>\n",
              "  .colab-df-quickchart {\n",
              "      --bg-color: #E8F0FE;\n",
              "      --fill-color: #1967D2;\n",
              "      --hover-bg-color: #E2EBFA;\n",
              "      --hover-fill-color: #174EA6;\n",
              "      --disabled-fill-color: #AAA;\n",
              "      --disabled-bg-color: #DDD;\n",
              "  }\n",
              "\n",
              "  [theme=dark] .colab-df-quickchart {\n",
              "      --bg-color: #3B4455;\n",
              "      --fill-color: #D2E3FC;\n",
              "      --hover-bg-color: #434B5C;\n",
              "      --hover-fill-color: #FFFFFF;\n",
              "      --disabled-bg-color: #3B4455;\n",
              "      --disabled-fill-color: #666;\n",
              "  }\n",
              "\n",
              "  .colab-df-quickchart {\n",
              "    background-color: var(--bg-color);\n",
              "    border: none;\n",
              "    border-radius: 50%;\n",
              "    cursor: pointer;\n",
              "    display: none;\n",
              "    fill: var(--fill-color);\n",
              "    height: 32px;\n",
              "    padding: 0;\n",
              "    width: 32px;\n",
              "  }\n",
              "\n",
              "  .colab-df-quickchart:hover {\n",
              "    background-color: var(--hover-bg-color);\n",
              "    box-shadow: 0 1px 2px rgba(60, 64, 67, 0.3), 0 1px 3px 1px rgba(60, 64, 67, 0.15);\n",
              "    fill: var(--button-hover-fill-color);\n",
              "  }\n",
              "\n",
              "  .colab-df-quickchart-complete:disabled,\n",
              "  .colab-df-quickchart-complete:disabled:hover {\n",
              "    background-color: var(--disabled-bg-color);\n",
              "    fill: var(--disabled-fill-color);\n",
              "    box-shadow: none;\n",
              "  }\n",
              "\n",
              "  .colab-df-spinner {\n",
              "    border: 2px solid var(--fill-color);\n",
              "    border-color: transparent;\n",
              "    border-bottom-color: var(--fill-color);\n",
              "    animation:\n",
              "      spin 1s steps(1) infinite;\n",
              "  }\n",
              "\n",
              "  @keyframes spin {\n",
              "    0% {\n",
              "      border-color: transparent;\n",
              "      border-bottom-color: var(--fill-color);\n",
              "      border-left-color: var(--fill-color);\n",
              "    }\n",
              "    20% {\n",
              "      border-color: transparent;\n",
              "      border-left-color: var(--fill-color);\n",
              "      border-top-color: var(--fill-color);\n",
              "    }\n",
              "    30% {\n",
              "      border-color: transparent;\n",
              "      border-left-color: var(--fill-color);\n",
              "      border-top-color: var(--fill-color);\n",
              "      border-right-color: var(--fill-color);\n",
              "    }\n",
              "    40% {\n",
              "      border-color: transparent;\n",
              "      border-right-color: var(--fill-color);\n",
              "      border-top-color: var(--fill-color);\n",
              "    }\n",
              "    60% {\n",
              "      border-color: transparent;\n",
              "      border-right-color: var(--fill-color);\n",
              "    }\n",
              "    80% {\n",
              "      border-color: transparent;\n",
              "      border-right-color: var(--fill-color);\n",
              "      border-bottom-color: var(--fill-color);\n",
              "    }\n",
              "    90% {\n",
              "      border-color: transparent;\n",
              "      border-bottom-color: var(--fill-color);\n",
              "    }\n",
              "  }\n",
              "</style>\n",
              "\n",
              "  <script>\n",
              "    async function quickchart(key) {\n",
              "      const quickchartButtonEl =\n",
              "        document.querySelector('#' + key + ' button');\n",
              "      quickchartButtonEl.disabled = true;  // To prevent multiple clicks.\n",
              "      quickchartButtonEl.classList.add('colab-df-spinner');\n",
              "      try {\n",
              "        const charts = await google.colab.kernel.invokeFunction(\n",
              "            'suggestCharts', [key], {});\n",
              "      } catch (error) {\n",
              "        console.error('Error during call to suggestCharts:', error);\n",
              "      }\n",
              "      quickchartButtonEl.classList.remove('colab-df-spinner');\n",
              "      quickchartButtonEl.classList.add('colab-df-quickchart-complete');\n",
              "    }\n",
              "    (() => {\n",
              "      let quickchartButtonEl =\n",
              "        document.querySelector('#df-a28705ac-ad99-4c6c-8b89-b3ac20dd5829 button');\n",
              "      quickchartButtonEl.style.display =\n",
              "        google.colab.kernel.accessAllowed ? 'block' : 'none';\n",
              "    })();\n",
              "  </script>\n",
              "</div>\n",
              "    </div>\n",
              "  </div>\n"
            ]
          },
          "metadata": {},
          "execution_count": 110
        }
      ]
    },
    {
      "cell_type": "code",
      "source": [
        "from scipy.cluster import hierarchy as sch"
      ],
      "metadata": {
        "id": "6GJJPbU9mIEd"
      },
      "execution_count": null,
      "outputs": []
    },
    {
      "cell_type": "code",
      "source": [
        "linkage_function = lambda x: sch.linkage(x, 'single', optimal_ordering=True)\n",
        "hierarchical_topics = model.hierarchical_topics(text, linkage_function=linkage_function)"
      ],
      "metadata": {
        "colab": {
          "base_uri": "https://localhost:8080/"
        },
        "id": "FdWmj62Iuw81",
        "outputId": "cbe030fa-966c-4c69-d8ce-fc2cfdc5abe5"
      },
      "execution_count": null,
      "outputs": [
        {
          "output_type": "stream",
          "name": "stderr",
          "text": [
            "100%|██████████| 13/13 [00:00<00:00, 100.91it/s]\n"
          ]
        }
      ]
    },
    {
      "cell_type": "code",
      "source": [
        "model.visualize_hierarchy(hierarchical_topics=hierarchical_topics)"
      ],
      "metadata": {
        "id": "qqpLMBmamL7g",
        "colab": {
          "base_uri": "https://localhost:8080/",
          "height": 427
        },
        "outputId": "eb19beee-f85b-4f6a-a85c-38355239352e"
      },
      "execution_count": null,
      "outputs": [
        {
          "output_type": "display_data",
          "data": {
            "text/html": [
              "<html>\n",
              "<head><meta charset=\"utf-8\" /></head>\n",
              "<body>\n",
              "    <div>            <script src=\"https://cdnjs.cloudflare.com/ajax/libs/mathjax/2.7.5/MathJax.js?config=TeX-AMS-MML_SVG\"></script><script type=\"text/javascript\">if (window.MathJax && window.MathJax.Hub && window.MathJax.Hub.Config) {window.MathJax.Hub.Config({SVG: {font: \"STIX-Web\"}});}</script>                <script type=\"text/javascript\">window.PlotlyConfig = {MathJaxConfig: 'local'};</script>\n",
              "        <script charset=\"utf-8\" src=\"https://cdn.plot.ly/plotly-2.24.1.min.js\"></script>                <div id=\"ae126669-4d48-4b85-a4de-93b588478c02\" class=\"plotly-graph-div\" style=\"height:410px; width:1000px;\"></div>            <script type=\"text/javascript\">                                    window.PLOTLYENV=window.PLOTLYENV || {};                                    if (document.getElementById(\"ae126669-4d48-4b85-a4de-93b588478c02\")) {                    Plotly.newPlot(                        \"ae126669-4d48-4b85-a4de-93b588478c02\",                        [{\"hoverinfo\":\"text\",\"marker\":{\"color\":\"rgb(61,153,112)\"},\"mode\":\"lines\",\"text\":[\"\\ud3d0\\uae30_\\ub2e4\\ubb38\\ud654_\\uc815\\ucc45_\\uc720\\uc785_\\uc9c0\\uc6d0\",\"\",\"\",\"\\uc720\\ub7fd_\\ub3c5\\uc77c_\\ub098\\ub77c_\\ucc28\\ubcc4_\\uc778\\uc885\"],\"x\":[0.0,0.6496784042947628,0.6496784042947628,0.0],\"xaxis\":\"x\",\"y\":[-25.0,-25.0,-35.0,-35.0],\"yaxis\":\"y\",\"type\":\"scatter\"},{\"hoverinfo\":\"text\",\"marker\":{\"color\":\"rgb(61,153,112)\"},\"mode\":\"lines\",\"text\":[\"\\ube44\\uc6a9_\\ucd08\\ub798_\\ubd80\\uc791\\uc6a9_\\uc0ac\\ud68c_\\ud3d0\\uae30\",\"\",\"\",\"\\uc720\\ub7fd_\\ud3d0\\uae30_\\ub2e4\\ubb38\\ud654_\\uad6d\\uac00_\\uc9c0\\uc6d0\"],\"x\":[0.0,0.8704997686912954,0.8704997686912954,0.6496784042947628],\"xaxis\":\"x\",\"y\":[-15.0,-15.0,-30.0,-30.0],\"yaxis\":\"y\",\"type\":\"scatter\"},{\"hoverinfo\":\"text\",\"marker\":{\"color\":\"rgb(61,153,112)\"},\"mode\":\"lines\",\"text\":[\"\\ube44\\uc6a9_\\ucd08\\ub798_\\ubd80\\uc791\\uc6a9_\\uc0ac\\ud68c_\\ud3d0\\uae30\",\"\",\"\",\"\\uc2e4\\uccb4_\\ub2f4\\ub860_\\ub9dd\\uad6d_\\ub2e4\\ubb38\\ud654_\\ub09c\\ubbfc\\ubc95\"],\"x\":[0.8704997686912954,0.9357751046966091,0.9357751046966091,0.0],\"xaxis\":\"x\",\"y\":[-22.5,-22.5,-45.0,-45.0],\"yaxis\":\"y\",\"type\":\"scatter\"},{\"hoverinfo\":\"text\",\"marker\":{\"color\":\"rgb(61,153,112)\"},\"mode\":\"lines\",\"text\":[\"\\uad6d\\uac00_\\ucc2c\\uc0ac_\\uc774\\ubbfc\\uc790_\\uc9d0\\uc2b9_\\uc2a4\\uc6e8\\ub374\",\"\",\"\",\"\\uc2e4\\uccb4_\\ub2f4\\ub860_\\ub9dd\\uad6d_\\ub2e4\\ubb38\\ud654_\\ub09c\\ubbfc\\ubc95\"],\"x\":[0.0,0.9732130709562894,0.9732130709562894,0.9357751046966091],\"xaxis\":\"x\",\"y\":[-5.0,-5.0,-33.75,-33.75],\"yaxis\":\"y\",\"type\":\"scatter\"},{\"hoverinfo\":\"text\",\"marker\":{\"color\":\"rgb(255,65,54)\"},\"mode\":\"lines\",\"text\":[\"\\uc608\\uba58_\\uc2dc\\ub9ac\\uc544_\\ub09c\\ubbfc_\\uc0ac\\ub9dd_\\uc544\\ud504\\ub9ac\\uce74\",\"\",\"\",\"\\ub09c\\ubbfc\\ubc95_\\uc81c\\uc8fc_\\ub09c\\ub9ac_\\ub09c\\ubbfc_\\uc0c1\\ud669\"],\"x\":[0.0,0.7723750294321893,0.7723750294321893,0.0],\"xaxis\":\"x\",\"y\":[-55.0,-55.0,-65.0,-65.0],\"yaxis\":\"y\",\"type\":\"scatter\"},{\"hoverinfo\":\"text\",\"marker\":{\"color\":\"rgb(255,65,54)\"},\"mode\":\"lines\",\"text\":[\"\\uad6d\\ud68c_\\uac1c\\uc815\\uc548_\\ub09c\\ubbfc\\ubc95_\\uac1c\\uc815_\\uacf5\\uccad\\ud68c\",\"\",\"\",\"\\ub09c\\ubbfc\\ubc95_\\ub09c\\ubbfc_\\uc804\\uba74_\\uc544\\uc2dc\\uc544_\\ucd5c\\ucd08\"],\"x\":[0.0,0.44138193710259144,0.44138193710259144,0.0],\"xaxis\":\"x\",\"y\":[-85.0,-85.0,-95.0,-95.0],\"yaxis\":\"y\",\"type\":\"scatter\"},{\"hoverinfo\":\"text\",\"marker\":{\"color\":\"rgb(255,65,54)\"},\"mode\":\"lines\",\"text\":[\"\\ub09c\\ubbfc\\ubc95_\\uacf5\\uccad\\ud68c_\\uc5b4\\ud544_\\uc13c\\ud130_\\uc2dc\\ud589\\ub839\",\"\",\"\",\"\\ub09c\\ubbfc\\ubc95_\\ub09c\\ubbfc_\\uc544\\uc2dc\\uc544_\\ucd5c\\ucd08_\\uc804\\uba74\"],\"x\":[0.0,0.5960155356397719,0.5960155356397719,0.44138193710259144],\"xaxis\":\"x\",\"y\":[-75.0,-75.0,-90.0,-90.0],\"yaxis\":\"y\",\"type\":\"scatter\"},{\"hoverinfo\":\"text\",\"marker\":{\"color\":\"rgb(255,65,54)\"},\"mode\":\"lines\",\"text\":[\"\\ub09c\\ubbfc\\ubc95_\\ub09c\\ubbfc_\\uc544\\uc2dc\\uc544_\\ucd5c\\ucd08_\\uc2dc\\ud589\",\"\",\"\",\"\\uc544\\ud504\\ub9ac\\uce74_\\ud751\\uc778_\\ubc95\\ubb34\\ubd80_\\uc791\\ub144_\\ub0b4\\ub144\"],\"x\":[0.5960155356397719,0.9029248195763161,0.9029248195763161,0.0],\"xaxis\":\"x\",\"y\":[-82.5,-82.5,-105.0,-105.0],\"yaxis\":\"y\",\"type\":\"scatter\"},{\"hoverinfo\":\"text\",\"marker\":{\"color\":\"rgb(255,65,54)\"},\"mode\":\"lines\",\"text\":[\"\\ub09c\\ubbfc\\ubc95_\\ub09c\\ubbfc_\\uc544\\uc2dc\\uc544_\\ucd5c\\ucd08_\\uc2dc\\ud589\",\"\",\"\",\"\\uc544\\ud504\\ub9ac\\uce74_\\ud751\\uc778_\\ubc95\\ubb34\\ubd80_\\uc791\\ub144_\\ub0b4\\ub144\"],\"x\":[0.7723750294321893,0.9517250007482941,0.9517250007482941,0.9029248195763161],\"xaxis\":\"x\",\"y\":[-60.0,-60.0,-93.75,-93.75],\"yaxis\":\"y\",\"type\":\"scatter\"},{\"hoverinfo\":\"text\",\"marker\":{\"color\":\"rgb(35,205,205)\"},\"mode\":\"lines\",\"text\":[\"\\ubbf8\\ub798_\\uc678\\uad6d\\uc778_\\ub300\\ud55c\\ubbfc\\uad6d_\\uc77c\\uc790\\ub9ac_\\uce68\\uc2dd\",\"\",\"\",\"\\ud310\\uacb0_\\ubc95\\uc6d0_\\ucd94\\ubc29_\\uc2e0\\uccad_\\ub09c\\ubbfc\"],\"x\":[0.0,0.7611172607009515,0.7611172607009515,0.0],\"xaxis\":\"x\",\"y\":[-115.0,-115.0,-125.0,-125.0],\"yaxis\":\"y\",\"type\":\"scatter\"},{\"hoverinfo\":\"text\",\"marker\":{\"color\":\"rgb(35,205,205)\"},\"mode\":\"lines\",\"text\":[\"\\ubbf8\\ub798_\\uc678\\uad6d\\uc778_\\ub300\\ud55c\\ubbfc\\uad6d_\\uc77c\\uc790\\ub9ac_\\uce68\\uc2dd\",\"\",\"\",\"\\ud55c\\uad6d_\\uc138\\uacc4_\\uc774\\ubbfc_\\uac1c\\ub3c4\\uad6d_\\uac01\\uad6d\"],\"x\":[0.7611172607009515,0.9159538431460819,0.9159538431460819,0.0],\"xaxis\":\"x\",\"y\":[-120.0,-120.0,-135.0,-135.0],\"yaxis\":\"y\",\"type\":\"scatter\"},{\"hoverinfo\":\"text\",\"marker\":{\"color\":\"rgb(0,116,217)\"},\"mode\":\"lines\",\"text\":[\"\\ubbf8\\ub798_\\uc678\\uad6d\\uc778_\\ub300\\ud55c\\ubbfc\\uad6d_\\uc77c\\uc790\\ub9ac_\\uce68\\uc2dd\",\"\",\"\",\"\\ud55c\\uad6d_\\uc138\\uacc4_\\uc774\\ubbfc_\\uac1c\\ub3c4\\uad6d_\\uac01\\uad6d\"],\"x\":[0.9517250007482941,1.0048997276597504,1.0048997276597504,0.9159538431460819],\"xaxis\":\"x\",\"y\":[-76.875,-76.875,-127.5,-127.5],\"yaxis\":\"y\",\"type\":\"scatter\"},{\"hoverinfo\":\"text\",\"marker\":{\"color\":\"rgb(0,116,217)\"},\"mode\":\"lines\",\"text\":[\"\\ubbf8\\ub798_\\uc678\\uad6d\\uc778_\\ub300\\ud55c\\ubbfc\\uad6d_\\uc77c\\uc790\\ub9ac_\\uce68\\uc2dd\",\"\",\"\",\"\\ud55c\\uad6d_\\uc138\\uacc4_\\uc774\\ubbfc_\\uac1c\\ub3c4\\uad6d_\\uac01\\uad6d\"],\"x\":[0.9732130709562894,1.1789688934129348,1.1789688934129348,1.0048997276597504],\"xaxis\":\"x\",\"y\":[-19.375,-19.375,-102.1875,-102.1875],\"yaxis\":\"y\",\"type\":\"scatter\"},{\"hoverinfo\":\"text\",\"hovertext\":[\"\\ube44\\uc6a9_\\ucd08\\ub798_\\ubd80\\uc791\\uc6a9_\\uc0ac\\ud68c_\\ud3d0\\uae30\",\"\\ub09c\\ubbfc\\ubc95_\\ub09c\\ubbfc_\\uc544\\uc2dc\\uc544_\\ucd5c\\ucd08_\\uc2dc\\ud589\",\"\\ub09c\\ubbfc\\ubc95_\\ub09c\\ubbfc_\\uc544\\uc2dc\\uc544_\\ucd5c\\ucd08_\\uc2dc\\ud589\",\"\\ubbf8\\ub798_\\uc678\\uad6d\\uc778_\\ub300\\ud55c\\ubbfc\\uad6d_\\uc77c\\uc790\\ub9ac_\\uce68\\uc2dd\",\"\\ubbf8\\ub798_\\uc678\\uad6d\\uc778_\\ub300\\ud55c\\ubbfc\\uad6d_\\uc77c\\uc790\\ub9ac_\\uce68\\uc2dd\",\"\\ubbf8\\ub798_\\uc678\\uad6d\\uc778_\\ub300\\ud55c\\ubbfc\\uad6d_\\uc77c\\uc790\\ub9ac_\\uce68\\uc2dd\"],\"marker\":{\"color\":\"black\"},\"mode\":\"markers\",\"showlegend\":false,\"x\":[0.8704997686912954,0.5960155356397719,0.7723750294321893,0.7611172607009515,0.9517250007482941,0.9732130709562894],\"y\":[-22.5,-82.5,-60.0,-120.0,-76.875,-19.375],\"type\":\"scatter\"},{\"hoverinfo\":\"text\",\"hovertext\":[\"\\uc720\\ub7fd_\\ud3d0\\uae30_\\ub2e4\\ubb38\\ud654_\\uad6d\\uac00_\\uc9c0\\uc6d0\",\"\\uc2e4\\uccb4_\\ub2f4\\ub860_\\ub9dd\\uad6d_\\ub2e4\\ubb38\\ud654_\\ub09c\\ubbfc\\ubc95\",\"\\ub09c\\ubbfc\\ubc95_\\ub09c\\ubbfc_\\uc544\\uc2dc\\uc544_\\ucd5c\\ucd08_\\uc804\\uba74\",\"\\uc544\\ud504\\ub9ac\\uce74_\\ud751\\uc778_\\ubc95\\ubb34\\ubd80_\\uc791\\ub144_\\ub0b4\\ub144\",\"\\ud55c\\uad6d_\\uc138\\uacc4_\\uc774\\ubbfc_\\uac1c\\ub3c4\\uad6d_\\uac01\\uad6d\",\"\\ud55c\\uad6d_\\uc138\\uacc4_\\uc774\\ubbfc_\\uac1c\\ub3c4\\uad6d_\\uac01\\uad6d\"],\"marker\":{\"color\":\"black\"},\"mode\":\"markers\",\"showlegend\":false,\"x\":[0.6496784042947628,0.9357751046966091,0.44138193710259144,0.9029248195763161,0.9159538431460819,1.0048997276597504],\"y\":[-30.0,-33.75,-90.0,-93.75,-127.5,-102.1875],\"type\":\"scatter\"}],                        {\"autosize\":false,\"height\":410,\"hovermode\":\"closest\",\"showlegend\":false,\"width\":1000,\"xaxis\":{\"mirror\":\"allticks\",\"rangemode\":\"tozero\",\"showgrid\":false,\"showline\":true,\"showticklabels\":true,\"ticks\":\"outside\",\"type\":\"linear\",\"zeroline\":false},\"yaxis\":{\"mirror\":\"allticks\",\"rangemode\":\"tozero\",\"showgrid\":false,\"showline\":true,\"showticklabels\":true,\"tickmode\":\"array\",\"ticks\":\"outside\",\"ticktext\":[\"6_\\uad6d\\uac00_\\ucc2c\\uc0ac_\\uc774\\ubbfc\\uc790\",\"10_\\ube44\\uc6a9_\\ucd08\\ub798_\\ubd80\\uc791\\uc6a9\",\"13_\\ud3d0\\uae30_\\ub2e4\\ubb38\\ud654_\\uc815\\ucc45\",\"11_\\uc720\\ub7fd_\\ub3c5\\uc77c_\\ub098\\ub77c\",\"5_\\uc2e4\\uccb4_\\ub2f4\\ub860_\\ub9dd\\uad6d\",\"4_\\uc608\\uba58_\\uc2dc\\ub9ac\\uc544_\\ub09c\\ubbfc\",\"9_\\ub09c\\ubbfc\\ubc95_\\uc81c\\uc8fc_\\ub09c\\ub9ac\",\"8_\\ub09c\\ubbfc\\ubc95_\\uacf5\\uccad\\ud68c_\\uc5b4\\ud544\",\"3_\\uad6d\\ud68c_\\uac1c\\uc815\\uc548_\\ub09c\\ubbfc\\ubc95\",\"2_\\ub09c\\ubbfc\\ubc95_\\ub09c\\ubbfc_\\uc804\\uba74\",\"12_\\uc544\\ud504\\ub9ac\\uce74_\\ud751\\uc778_\\ubc95\\ubb34\\ubd80\",\"1_\\ubbf8\\ub798_\\uc678\\uad6d\\uc778_\\ub300\\ud55c\\ubbfc\\uad6d\",\"7_\\ud310\\uacb0_\\ubc95\\uc6d0_\\ucd94\\ubc29\",\"0_\\ud55c\\uad6d_\\uc138\\uacc4_\\uc774\\ubbfc\"],\"tickvals\":[-5.0,-15.0,-25.0,-35.0,-45.0,-55.0,-65.0,-75.0,-85.0,-95.0,-105.0,-115.0,-125.0,-135.0],\"type\":\"linear\",\"zeroline\":false,\"range\":[-140.0,0.0]},\"template\":{\"data\":{\"barpolar\":[{\"marker\":{\"line\":{\"color\":\"white\",\"width\":0.5},\"pattern\":{\"fillmode\":\"overlay\",\"size\":10,\"solidity\":0.2}},\"type\":\"barpolar\"}],\"bar\":[{\"error_x\":{\"color\":\"#2a3f5f\"},\"error_y\":{\"color\":\"#2a3f5f\"},\"marker\":{\"line\":{\"color\":\"white\",\"width\":0.5},\"pattern\":{\"fillmode\":\"overlay\",\"size\":10,\"solidity\":0.2}},\"type\":\"bar\"}],\"carpet\":[{\"aaxis\":{\"endlinecolor\":\"#2a3f5f\",\"gridcolor\":\"#C8D4E3\",\"linecolor\":\"#C8D4E3\",\"minorgridcolor\":\"#C8D4E3\",\"startlinecolor\":\"#2a3f5f\"},\"baxis\":{\"endlinecolor\":\"#2a3f5f\",\"gridcolor\":\"#C8D4E3\",\"linecolor\":\"#C8D4E3\",\"minorgridcolor\":\"#C8D4E3\",\"startlinecolor\":\"#2a3f5f\"},\"type\":\"carpet\"}],\"choropleth\":[{\"colorbar\":{\"outlinewidth\":0,\"ticks\":\"\"},\"type\":\"choropleth\"}],\"contourcarpet\":[{\"colorbar\":{\"outlinewidth\":0,\"ticks\":\"\"},\"type\":\"contourcarpet\"}],\"contour\":[{\"colorbar\":{\"outlinewidth\":0,\"ticks\":\"\"},\"colorscale\":[[0.0,\"#0d0887\"],[0.1111111111111111,\"#46039f\"],[0.2222222222222222,\"#7201a8\"],[0.3333333333333333,\"#9c179e\"],[0.4444444444444444,\"#bd3786\"],[0.5555555555555556,\"#d8576b\"],[0.6666666666666666,\"#ed7953\"],[0.7777777777777778,\"#fb9f3a\"],[0.8888888888888888,\"#fdca26\"],[1.0,\"#f0f921\"]],\"type\":\"contour\"}],\"heatmapgl\":[{\"colorbar\":{\"outlinewidth\":0,\"ticks\":\"\"},\"colorscale\":[[0.0,\"#0d0887\"],[0.1111111111111111,\"#46039f\"],[0.2222222222222222,\"#7201a8\"],[0.3333333333333333,\"#9c179e\"],[0.4444444444444444,\"#bd3786\"],[0.5555555555555556,\"#d8576b\"],[0.6666666666666666,\"#ed7953\"],[0.7777777777777778,\"#fb9f3a\"],[0.8888888888888888,\"#fdca26\"],[1.0,\"#f0f921\"]],\"type\":\"heatmapgl\"}],\"heatmap\":[{\"colorbar\":{\"outlinewidth\":0,\"ticks\":\"\"},\"colorscale\":[[0.0,\"#0d0887\"],[0.1111111111111111,\"#46039f\"],[0.2222222222222222,\"#7201a8\"],[0.3333333333333333,\"#9c179e\"],[0.4444444444444444,\"#bd3786\"],[0.5555555555555556,\"#d8576b\"],[0.6666666666666666,\"#ed7953\"],[0.7777777777777778,\"#fb9f3a\"],[0.8888888888888888,\"#fdca26\"],[1.0,\"#f0f921\"]],\"type\":\"heatmap\"}],\"histogram2dcontour\":[{\"colorbar\":{\"outlinewidth\":0,\"ticks\":\"\"},\"colorscale\":[[0.0,\"#0d0887\"],[0.1111111111111111,\"#46039f\"],[0.2222222222222222,\"#7201a8\"],[0.3333333333333333,\"#9c179e\"],[0.4444444444444444,\"#bd3786\"],[0.5555555555555556,\"#d8576b\"],[0.6666666666666666,\"#ed7953\"],[0.7777777777777778,\"#fb9f3a\"],[0.8888888888888888,\"#fdca26\"],[1.0,\"#f0f921\"]],\"type\":\"histogram2dcontour\"}],\"histogram2d\":[{\"colorbar\":{\"outlinewidth\":0,\"ticks\":\"\"},\"colorscale\":[[0.0,\"#0d0887\"],[0.1111111111111111,\"#46039f\"],[0.2222222222222222,\"#7201a8\"],[0.3333333333333333,\"#9c179e\"],[0.4444444444444444,\"#bd3786\"],[0.5555555555555556,\"#d8576b\"],[0.6666666666666666,\"#ed7953\"],[0.7777777777777778,\"#fb9f3a\"],[0.8888888888888888,\"#fdca26\"],[1.0,\"#f0f921\"]],\"type\":\"histogram2d\"}],\"histogram\":[{\"marker\":{\"pattern\":{\"fillmode\":\"overlay\",\"size\":10,\"solidity\":0.2}},\"type\":\"histogram\"}],\"mesh3d\":[{\"colorbar\":{\"outlinewidth\":0,\"ticks\":\"\"},\"type\":\"mesh3d\"}],\"parcoords\":[{\"line\":{\"colorbar\":{\"outlinewidth\":0,\"ticks\":\"\"}},\"type\":\"parcoords\"}],\"pie\":[{\"automargin\":true,\"type\":\"pie\"}],\"scatter3d\":[{\"line\":{\"colorbar\":{\"outlinewidth\":0,\"ticks\":\"\"}},\"marker\":{\"colorbar\":{\"outlinewidth\":0,\"ticks\":\"\"}},\"type\":\"scatter3d\"}],\"scattercarpet\":[{\"marker\":{\"colorbar\":{\"outlinewidth\":0,\"ticks\":\"\"}},\"type\":\"scattercarpet\"}],\"scattergeo\":[{\"marker\":{\"colorbar\":{\"outlinewidth\":0,\"ticks\":\"\"}},\"type\":\"scattergeo\"}],\"scattergl\":[{\"marker\":{\"colorbar\":{\"outlinewidth\":0,\"ticks\":\"\"}},\"type\":\"scattergl\"}],\"scattermapbox\":[{\"marker\":{\"colorbar\":{\"outlinewidth\":0,\"ticks\":\"\"}},\"type\":\"scattermapbox\"}],\"scatterpolargl\":[{\"marker\":{\"colorbar\":{\"outlinewidth\":0,\"ticks\":\"\"}},\"type\":\"scatterpolargl\"}],\"scatterpolar\":[{\"marker\":{\"colorbar\":{\"outlinewidth\":0,\"ticks\":\"\"}},\"type\":\"scatterpolar\"}],\"scatter\":[{\"fillpattern\":{\"fillmode\":\"overlay\",\"size\":10,\"solidity\":0.2},\"type\":\"scatter\"}],\"scatterternary\":[{\"marker\":{\"colorbar\":{\"outlinewidth\":0,\"ticks\":\"\"}},\"type\":\"scatterternary\"}],\"surface\":[{\"colorbar\":{\"outlinewidth\":0,\"ticks\":\"\"},\"colorscale\":[[0.0,\"#0d0887\"],[0.1111111111111111,\"#46039f\"],[0.2222222222222222,\"#7201a8\"],[0.3333333333333333,\"#9c179e\"],[0.4444444444444444,\"#bd3786\"],[0.5555555555555556,\"#d8576b\"],[0.6666666666666666,\"#ed7953\"],[0.7777777777777778,\"#fb9f3a\"],[0.8888888888888888,\"#fdca26\"],[1.0,\"#f0f921\"]],\"type\":\"surface\"}],\"table\":[{\"cells\":{\"fill\":{\"color\":\"#EBF0F8\"},\"line\":{\"color\":\"white\"}},\"header\":{\"fill\":{\"color\":\"#C8D4E3\"},\"line\":{\"color\":\"white\"}},\"type\":\"table\"}]},\"layout\":{\"annotationdefaults\":{\"arrowcolor\":\"#2a3f5f\",\"arrowhead\":0,\"arrowwidth\":1},\"autotypenumbers\":\"strict\",\"coloraxis\":{\"colorbar\":{\"outlinewidth\":0,\"ticks\":\"\"}},\"colorscale\":{\"diverging\":[[0,\"#8e0152\"],[0.1,\"#c51b7d\"],[0.2,\"#de77ae\"],[0.3,\"#f1b6da\"],[0.4,\"#fde0ef\"],[0.5,\"#f7f7f7\"],[0.6,\"#e6f5d0\"],[0.7,\"#b8e186\"],[0.8,\"#7fbc41\"],[0.9,\"#4d9221\"],[1,\"#276419\"]],\"sequential\":[[0.0,\"#0d0887\"],[0.1111111111111111,\"#46039f\"],[0.2222222222222222,\"#7201a8\"],[0.3333333333333333,\"#9c179e\"],[0.4444444444444444,\"#bd3786\"],[0.5555555555555556,\"#d8576b\"],[0.6666666666666666,\"#ed7953\"],[0.7777777777777778,\"#fb9f3a\"],[0.8888888888888888,\"#fdca26\"],[1.0,\"#f0f921\"]],\"sequentialminus\":[[0.0,\"#0d0887\"],[0.1111111111111111,\"#46039f\"],[0.2222222222222222,\"#7201a8\"],[0.3333333333333333,\"#9c179e\"],[0.4444444444444444,\"#bd3786\"],[0.5555555555555556,\"#d8576b\"],[0.6666666666666666,\"#ed7953\"],[0.7777777777777778,\"#fb9f3a\"],[0.8888888888888888,\"#fdca26\"],[1.0,\"#f0f921\"]]},\"colorway\":[\"#636efa\",\"#EF553B\",\"#00cc96\",\"#ab63fa\",\"#FFA15A\",\"#19d3f3\",\"#FF6692\",\"#B6E880\",\"#FF97FF\",\"#FECB52\"],\"font\":{\"color\":\"#2a3f5f\"},\"geo\":{\"bgcolor\":\"white\",\"lakecolor\":\"white\",\"landcolor\":\"white\",\"showlakes\":true,\"showland\":true,\"subunitcolor\":\"#C8D4E3\"},\"hoverlabel\":{\"align\":\"left\"},\"hovermode\":\"closest\",\"mapbox\":{\"style\":\"light\"},\"paper_bgcolor\":\"white\",\"plot_bgcolor\":\"white\",\"polar\":{\"angularaxis\":{\"gridcolor\":\"#EBF0F8\",\"linecolor\":\"#EBF0F8\",\"ticks\":\"\"},\"bgcolor\":\"white\",\"radialaxis\":{\"gridcolor\":\"#EBF0F8\",\"linecolor\":\"#EBF0F8\",\"ticks\":\"\"}},\"scene\":{\"xaxis\":{\"backgroundcolor\":\"white\",\"gridcolor\":\"#DFE8F3\",\"gridwidth\":2,\"linecolor\":\"#EBF0F8\",\"showbackground\":true,\"ticks\":\"\",\"zerolinecolor\":\"#EBF0F8\"},\"yaxis\":{\"backgroundcolor\":\"white\",\"gridcolor\":\"#DFE8F3\",\"gridwidth\":2,\"linecolor\":\"#EBF0F8\",\"showbackground\":true,\"ticks\":\"\",\"zerolinecolor\":\"#EBF0F8\"},\"zaxis\":{\"backgroundcolor\":\"white\",\"gridcolor\":\"#DFE8F3\",\"gridwidth\":2,\"linecolor\":\"#EBF0F8\",\"showbackground\":true,\"ticks\":\"\",\"zerolinecolor\":\"#EBF0F8\"}},\"shapedefaults\":{\"line\":{\"color\":\"#2a3f5f\"}},\"ternary\":{\"aaxis\":{\"gridcolor\":\"#DFE8F3\",\"linecolor\":\"#A2B1C6\",\"ticks\":\"\"},\"baxis\":{\"gridcolor\":\"#DFE8F3\",\"linecolor\":\"#A2B1C6\",\"ticks\":\"\"},\"bgcolor\":\"white\",\"caxis\":{\"gridcolor\":\"#DFE8F3\",\"linecolor\":\"#A2B1C6\",\"ticks\":\"\"}},\"title\":{\"x\":0.05},\"xaxis\":{\"automargin\":true,\"gridcolor\":\"#EBF0F8\",\"linecolor\":\"#EBF0F8\",\"ticks\":\"\",\"title\":{\"standoff\":15},\"zerolinecolor\":\"#EBF0F8\",\"zerolinewidth\":2},\"yaxis\":{\"automargin\":true,\"gridcolor\":\"#EBF0F8\",\"linecolor\":\"#EBF0F8\",\"ticks\":\"\",\"title\":{\"standoff\":15},\"zerolinecolor\":\"#EBF0F8\",\"zerolinewidth\":2}}},\"title\":{\"font\":{\"size\":22,\"color\":\"Black\"},\"text\":\"\\u003cb\\u003eHierarchical Clustering\\u003c\\u002fb\\u003e\",\"x\":0.5,\"xanchor\":\"center\",\"yanchor\":\"top\"},\"hoverlabel\":{\"font\":{\"size\":16,\"family\":\"Rockwell\"},\"bgcolor\":\"white\"},\"plot_bgcolor\":\"#ECEFF1\"},                        {\"responsive\": true}                    ).then(function(){\n",
              "                            \n",
              "var gd = document.getElementById('ae126669-4d48-4b85-a4de-93b588478c02');\n",
              "var x = new MutationObserver(function (mutations, observer) {{\n",
              "        var display = window.getComputedStyle(gd).display;\n",
              "        if (!display || display === 'none') {{\n",
              "            console.log([gd, 'removed!']);\n",
              "            Plotly.purge(gd);\n",
              "            observer.disconnect();\n",
              "        }}\n",
              "}});\n",
              "\n",
              "// Listen for the removal of the full notebook cells\n",
              "var notebookContainer = gd.closest('#notebook-container');\n",
              "if (notebookContainer) {{\n",
              "    x.observe(notebookContainer, {childList: true});\n",
              "}}\n",
              "\n",
              "// Listen for the clearing of the current output cell\n",
              "var outputEl = gd.closest('.output');\n",
              "if (outputEl) {{\n",
              "    x.observe(outputEl, {childList: true});\n",
              "}}\n",
              "\n",
              "                        })                };                            </script>        </div>\n",
              "</body>\n",
              "</html>"
            ]
          },
          "metadata": {}
        }
      ]
    },
    {
      "cell_type": "code",
      "source": [
        "topics_to_merge = [[13, 16, 2, 4, 10, 8],\n",
        "                   [7, 1],\n",
        "                   [3, 9, 12],\n",
        "                   [5, 14, 11],\n",
        "                   [6, 15]]\n",
        "model.merge_topics(text, topics_to_merge)"
      ],
      "metadata": {
        "id": "kTUozMX5S4xk",
        "colab": {
          "base_uri": "https://localhost:8080/",
          "height": 373
        },
        "outputId": "977c4336-090b-4720-aca2-d0ddabafec5b"
      },
      "execution_count": null,
      "outputs": [
        {
          "output_type": "error",
          "ename": "IndexError",
          "evalue": "ignored",
          "traceback": [
            "\u001b[0;31m---------------------------------------------------------------------------\u001b[0m",
            "\u001b[0;31mIndexError\u001b[0m                                Traceback (most recent call last)",
            "\u001b[0;32m<ipython-input-114-5ee538651f26>\u001b[0m in \u001b[0;36m<cell line: 6>\u001b[0;34m()\u001b[0m\n\u001b[1;32m      4\u001b[0m                    \u001b[0;34m[\u001b[0m\u001b[0;36m5\u001b[0m\u001b[0;34m,\u001b[0m \u001b[0;36m14\u001b[0m\u001b[0;34m,\u001b[0m \u001b[0;36m11\u001b[0m\u001b[0;34m]\u001b[0m\u001b[0;34m,\u001b[0m\u001b[0;34m\u001b[0m\u001b[0;34m\u001b[0m\u001b[0m\n\u001b[1;32m      5\u001b[0m                    [6, 15]]\n\u001b[0;32m----> 6\u001b[0;31m \u001b[0mmodel\u001b[0m\u001b[0;34m.\u001b[0m\u001b[0mmerge_topics\u001b[0m\u001b[0;34m(\u001b[0m\u001b[0mtext\u001b[0m\u001b[0;34m,\u001b[0m \u001b[0mtopics_to_merge\u001b[0m\u001b[0;34m)\u001b[0m\u001b[0;34m\u001b[0m\u001b[0;34m\u001b[0m\u001b[0m\n\u001b[0m",
            "\u001b[0;32m/usr/local/lib/python3.10/dist-packages/bertopic/_bertopic.py\u001b[0m in \u001b[0;36mmerge_topics\u001b[0;34m(self, docs, topics_to_merge, images)\u001b[0m\n\u001b[1;32m   1945\u001b[0m         \u001b[0mself\u001b[0m\u001b[0;34m.\u001b[0m\u001b[0mtopic_mapper_\u001b[0m\u001b[0;34m.\u001b[0m\u001b[0madd_mappings\u001b[0m\u001b[0;34m(\u001b[0m\u001b[0mmapping\u001b[0m\u001b[0;34m)\u001b[0m\u001b[0;34m\u001b[0m\u001b[0;34m\u001b[0m\u001b[0m\n\u001b[1;32m   1946\u001b[0m         \u001b[0mdocuments\u001b[0m \u001b[0;34m=\u001b[0m \u001b[0mself\u001b[0m\u001b[0;34m.\u001b[0m\u001b[0m_sort_mappings_by_frequency\u001b[0m\u001b[0;34m(\u001b[0m\u001b[0mdocuments\u001b[0m\u001b[0;34m)\u001b[0m\u001b[0;34m\u001b[0m\u001b[0;34m\u001b[0m\u001b[0m\n\u001b[0;32m-> 1947\u001b[0;31m         \u001b[0mself\u001b[0m\u001b[0;34m.\u001b[0m\u001b[0m_extract_topics\u001b[0m\u001b[0;34m(\u001b[0m\u001b[0mdocuments\u001b[0m\u001b[0;34m,\u001b[0m \u001b[0mmappings\u001b[0m\u001b[0;34m=\u001b[0m\u001b[0mmappings\u001b[0m\u001b[0;34m)\u001b[0m\u001b[0;34m\u001b[0m\u001b[0;34m\u001b[0m\u001b[0m\n\u001b[0m\u001b[1;32m   1948\u001b[0m         \u001b[0mself\u001b[0m\u001b[0;34m.\u001b[0m\u001b[0m_update_topic_size\u001b[0m\u001b[0;34m(\u001b[0m\u001b[0mdocuments\u001b[0m\u001b[0;34m)\u001b[0m\u001b[0;34m\u001b[0m\u001b[0;34m\u001b[0m\u001b[0m\n\u001b[1;32m   1949\u001b[0m         \u001b[0mself\u001b[0m\u001b[0;34m.\u001b[0m\u001b[0m_save_representative_docs\u001b[0m\u001b[0;34m(\u001b[0m\u001b[0mdocuments\u001b[0m\u001b[0;34m)\u001b[0m\u001b[0;34m\u001b[0m\u001b[0;34m\u001b[0m\u001b[0m\n",
            "\u001b[0;32m/usr/local/lib/python3.10/dist-packages/bertopic/_bertopic.py\u001b[0m in \u001b[0;36m_extract_topics\u001b[0;34m(self, documents, embeddings, mappings)\u001b[0m\n\u001b[1;32m   3295\u001b[0m         \u001b[0mself\u001b[0m\u001b[0;34m.\u001b[0m\u001b[0mc_tf_idf_\u001b[0m\u001b[0;34m,\u001b[0m \u001b[0mwords\u001b[0m \u001b[0;34m=\u001b[0m \u001b[0mself\u001b[0m\u001b[0;34m.\u001b[0m\u001b[0m_c_tf_idf\u001b[0m\u001b[0;34m(\u001b[0m\u001b[0mdocuments_per_topic\u001b[0m\u001b[0;34m)\u001b[0m\u001b[0;34m\u001b[0m\u001b[0;34m\u001b[0m\u001b[0m\n\u001b[1;32m   3296\u001b[0m         \u001b[0mself\u001b[0m\u001b[0;34m.\u001b[0m\u001b[0mtopic_representations_\u001b[0m \u001b[0;34m=\u001b[0m \u001b[0mself\u001b[0m\u001b[0;34m.\u001b[0m\u001b[0m_extract_words_per_topic\u001b[0m\u001b[0;34m(\u001b[0m\u001b[0mwords\u001b[0m\u001b[0;34m,\u001b[0m \u001b[0mdocuments\u001b[0m\u001b[0;34m)\u001b[0m\u001b[0;34m\u001b[0m\u001b[0;34m\u001b[0m\u001b[0m\n\u001b[0;32m-> 3297\u001b[0;31m         \u001b[0mself\u001b[0m\u001b[0;34m.\u001b[0m\u001b[0m_create_topic_vectors\u001b[0m\u001b[0;34m(\u001b[0m\u001b[0mdocuments\u001b[0m\u001b[0;34m=\u001b[0m\u001b[0mdocuments\u001b[0m\u001b[0;34m,\u001b[0m \u001b[0membeddings\u001b[0m\u001b[0;34m=\u001b[0m\u001b[0membeddings\u001b[0m\u001b[0;34m,\u001b[0m \u001b[0mmappings\u001b[0m\u001b[0;34m=\u001b[0m\u001b[0mmappings\u001b[0m\u001b[0;34m)\u001b[0m\u001b[0;34m\u001b[0m\u001b[0;34m\u001b[0m\u001b[0m\n\u001b[0m\u001b[1;32m   3298\u001b[0m         self.topic_labels_ = {key: f\"{key}_\" + \"_\".join([word[0] for word in values[:4]])\n\u001b[1;32m   3299\u001b[0m                               \u001b[0;32mfor\u001b[0m \u001b[0mkey\u001b[0m\u001b[0;34m,\u001b[0m \u001b[0mvalues\u001b[0m \u001b[0;32min\u001b[0m\u001b[0;34m\u001b[0m\u001b[0;34m\u001b[0m\u001b[0m\n",
            "\u001b[0;32m/usr/local/lib/python3.10/dist-packages/bertopic/_bertopic.py\u001b[0m in \u001b[0;36m_create_topic_vectors\u001b[0;34m(self, documents, embeddings, mappings)\u001b[0m\n\u001b[1;32m   3422\u001b[0m                 \u001b[0mtopic_sizes\u001b[0m \u001b[0;34m=\u001b[0m \u001b[0mtopics_to\u001b[0m\u001b[0;34m[\u001b[0m\u001b[0;34m\"topic_sizes\"\u001b[0m\u001b[0;34m]\u001b[0m\u001b[0;34m\u001b[0m\u001b[0;34m\u001b[0m\u001b[0m\n\u001b[1;32m   3423\u001b[0m                 \u001b[0;32mif\u001b[0m \u001b[0mtopic_ids\u001b[0m\u001b[0;34m:\u001b[0m\u001b[0;34m\u001b[0m\u001b[0;34m\u001b[0m\u001b[0m\n\u001b[0;32m-> 3424\u001b[0;31m                     \u001b[0membds\u001b[0m \u001b[0;34m=\u001b[0m \u001b[0mnp\u001b[0m\u001b[0;34m.\u001b[0m\u001b[0marray\u001b[0m\u001b[0;34m(\u001b[0m\u001b[0mself\u001b[0m\u001b[0;34m.\u001b[0m\u001b[0mtopic_embeddings_\u001b[0m\u001b[0;34m)\u001b[0m\u001b[0;34m[\u001b[0m\u001b[0mnp\u001b[0m\u001b[0;34m.\u001b[0m\u001b[0marray\u001b[0m\u001b[0;34m(\u001b[0m\u001b[0mtopic_ids\u001b[0m\u001b[0;34m)\u001b[0m \u001b[0;34m+\u001b[0m \u001b[0mself\u001b[0m\u001b[0;34m.\u001b[0m\u001b[0m_outliers\u001b[0m\u001b[0;34m]\u001b[0m\u001b[0;34m\u001b[0m\u001b[0;34m\u001b[0m\u001b[0m\n\u001b[0m\u001b[1;32m   3425\u001b[0m                     \u001b[0mtopic_embedding\u001b[0m \u001b[0;34m=\u001b[0m \u001b[0mnp\u001b[0m\u001b[0;34m.\u001b[0m\u001b[0maverage\u001b[0m\u001b[0;34m(\u001b[0m\u001b[0membds\u001b[0m\u001b[0;34m,\u001b[0m \u001b[0maxis\u001b[0m\u001b[0;34m=\u001b[0m\u001b[0;36m0\u001b[0m\u001b[0;34m,\u001b[0m \u001b[0mweights\u001b[0m\u001b[0;34m=\u001b[0m\u001b[0mtopic_sizes\u001b[0m\u001b[0;34m)\u001b[0m\u001b[0;34m\u001b[0m\u001b[0;34m\u001b[0m\u001b[0m\n\u001b[1;32m   3426\u001b[0m                     \u001b[0mtopic_embeddings_dict\u001b[0m\u001b[0;34m[\u001b[0m\u001b[0mtopic_from\u001b[0m\u001b[0;34m]\u001b[0m \u001b[0;34m=\u001b[0m \u001b[0mtopic_embedding\u001b[0m\u001b[0;34m\u001b[0m\u001b[0;34m\u001b[0m\u001b[0m\n",
            "\u001b[0;31mIndexError\u001b[0m: index 17 is out of bounds for axis 0 with size 15"
          ]
        }
      ]
    },
    {
      "cell_type": "code",
      "source": [
        "model.visualize_hierarchy(hierarchical_topics=hierarchical_topics)"
      ],
      "metadata": {
        "id": "TG98r9hpTLFG"
      },
      "execution_count": null,
      "outputs": []
    },
    {
      "cell_type": "code",
      "source": [
        "model.get_topic_info()"
      ],
      "metadata": {
        "id": "T-58T7K6TNRZ"
      },
      "execution_count": null,
      "outputs": []
    }
  ]
}