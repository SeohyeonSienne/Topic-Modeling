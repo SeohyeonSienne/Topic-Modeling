{
 "cells": [
  {
   "cell_type": "code",
   "execution_count": null,
   "id": "5bf4bea5",
   "metadata": {},
   "outputs": [],
   "source": [
    "!pip install --user git+https://github.com/haven-jeon/PyKoSpacing.git"
   ]
  },
  {
   "cell_type": "code",
   "execution_count": 3,
   "id": "b5825350",
   "metadata": {},
   "outputs": [],
   "source": [
    "import pandas as pd\n",
    "from pykospacing import Spacing\n",
    "\n",
    "# file path\n",
    "file_path = 'C:\\\\Twitter_working_final.csv'\n",
    "\n",
    "# read csv\n",
    "df = pd.read_csv(file_path)\n",
    "\n",
    "# remove space in second row\n",
    "df['message'] = df['message'].str.replace(\" \", '')"
   ]
  },
  {
   "cell_type": "code",
   "execution_count": 4,
   "id": "2685ff2c",
   "metadata": {},
   "outputs": [
    {
     "name": "stdout",
     "output_type": "stream",
     "text": [
      "        No                                            message\n",
      "0        1  일본 불법체류 남성 '한국에 돌아가느니 죽는다.'입관 난민법 위반(불법 잔류)으로 ...\n",
      "1        2  지도교수님의 '난민법' 수업에서 인신매매를 주제로 다뤘다. 빈곤, 성 상품화, 노동...\n",
      "2        3  대한민국 난민 소송 현황-건국 이래 총 333건의 난민 소송 제기됨.난민이 최종 승...\n",
      "3        4  대한민국 난민 소송 현황-건국 이래 총 333건의 난민 소송 제기됨.난민이 최종 승...\n",
      "4        5        난민 문제의 또 다른 단면-난민제도 국제법 수준으로 독립된 난민법 발의에 기대\n",
      "...    ...                                                ...\n",
      "9454  9457  네가 끼고 살아라 제발 정우성 UNHCR 친선대사\"제주예멘 난민, 우려와 달리 잘 정착\"\n",
      "9455  9458  제주 난민 사태 2년, \"난민 반대\"여전 여성·2030이 더 부정적 \"여성, 난민 ...\n",
      "9456  9459  2018년 제주난민 사태가 벌어졌을 당시 그는 한국 사회의 반응에 상처를 받기도 했...\n",
      "9457  9460  2018년 제주난민 사태가 벌어졌을 당시 그는 한국 사회의 반응에 상처를 받기도 했...\n",
      "9458  9461  난민에 외국인 신분인 아버지는 당시 도 일자리를 구하기 어렵던 상황이라 사무엘이 다...\n",
      "\n",
      "[9459 rows x 2 columns]\n"
     ]
    }
   ],
   "source": [
    "# Spacing subject\n",
    "spacing = Spacing()\n",
    "\n",
    "# spacing\n",
    "df['message'] = df['message'].apply(lambda x: spacing(x))\n",
    "\n",
    "# result\n",
    "print(df)\n"
   ]
  },
  {
   "cell_type": "code",
   "execution_count": 5,
   "id": "bb50f799",
   "metadata": {},
   "outputs": [],
   "source": [
    "output_file_path = 'C:\\\\Processed_Twitter_working_final.csv'\n",
    "df.to_csv(output_file_path, index=False)"
   ]
  },
  {
   "cell_type": "code",
   "execution_count": null,
   "id": "32e65da8",
   "metadata": {},
   "outputs": [],
   "source": []
  }
 ],
 "metadata": {
  "kernelspec": {
   "display_name": "Python 3 (ipykernel)",
   "language": "python",
   "name": "python3"
  },
  "language_info": {
   "codemirror_mode": {
    "name": "ipython",
    "version": 3
   },
   "file_extension": ".py",
   "mimetype": "text/x-python",
   "name": "python",
   "nbconvert_exporter": "python",
   "pygments_lexer": "ipython3",
   "version": "3.9.7"
  }
 },
 "nbformat": 4,
 "nbformat_minor": 5
}
